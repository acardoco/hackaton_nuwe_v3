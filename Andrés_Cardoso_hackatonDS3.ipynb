{
  "nbformat": 4,
  "nbformat_minor": 0,
  "metadata": {
    "colab": {
      "name": "Andrés_Cardoso_hackatonDS3.ipynb",
      "provenance": [],
      "collapsed_sections": [],
      "include_colab_link": true
    },
    "kernelspec": {
      "name": "python3",
      "display_name": "Python 3"
    },
    "language_info": {
      "name": "python"
    }
  },
  "cells": [
    {
      "cell_type": "markdown",
      "metadata": {
        "id": "view-in-github",
        "colab_type": "text"
      },
      "source": [
        "<a href=\"https://colab.research.google.com/github/acardoco/hackaton_nuwe_v3/blob/main/Andr%C3%A9s_Cardoso_hackatonDS3.ipynb\" target=\"_parent\"><img src=\"https://colab.research.google.com/assets/colab-badge.svg\" alt=\"Open In Colab\"/></a>"
      ]
    },
    {
      "cell_type": "markdown",
      "metadata": {
        "id": "LTXyqSjb9t1O"
      },
      "source": [
        "Retos individuales:\n",
        "\n",
        "*    Hackathon: HACK THAT STARTUP 3\n",
        "*    Author: Andrés Cardoso Cordero\n",
        " "
      ]
    },
    {
      "cell_type": "markdown",
      "metadata": {
        "id": "d-3mS_OkiE4t"
      },
      "source": [
        "Steps:\n",
        "\n",
        "1. Analizar el conjunto de datos\n",
        "2. Normalizar datos y aplicar filtros que hagan falta\n",
        "3. Dividir en entrenamiento/testeo\n",
        "4. Probar Algoritmos, implementar grid search para F1-Score \n",
        "5. Ensemble y resultado final\n",
        "\n"
      ]
    },
    {
      "cell_type": "code",
      "metadata": {
        "colab": {
          "resources": {
            "http://localhost:8080/nbextensions/google.colab/files.js": {
              "data": "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",
              "ok": true,
              "headers": [
                [
                  "content-type",
                  "application/javascript"
                ]
              ],
              "status": 200,
              "status_text": ""
            }
          },
          "base_uri": "https://localhost:8080/",
          "height": 72
        },
        "id": "1ZqpI1nhUtWS",
        "outputId": "a5458b27-ba16-48af-b9a6-79d3f771ad58"
      },
      "source": [
        "from google.colab import files \n",
        "  \n",
        "  \n",
        "uploaded = files.upload()"
      ],
      "execution_count": null,
      "outputs": [
        {
          "output_type": "display_data",
          "data": {
            "text/html": [
              "\n",
              "     <input type=\"file\" id=\"files-3228c920-8c87-4dce-9b1f-6cbd4d466003\" name=\"files[]\" multiple disabled\n",
              "        style=\"border:none\" />\n",
              "     <output id=\"result-3228c920-8c87-4dce-9b1f-6cbd4d466003\">\n",
              "      Upload widget is only available when the cell has been executed in the\n",
              "      current browser session. Please rerun this cell to enable.\n",
              "      </output>\n",
              "      <script src=\"/nbextensions/google.colab/files.js\"></script> "
            ],
            "text/plain": [
              "<IPython.core.display.HTML object>"
            ]
          },
          "metadata": {
            "tags": []
          }
        },
        {
          "output_type": "stream",
          "text": [
            "Saving asteroid_types.csv to asteroid_types (1).csv\n"
          ],
          "name": "stdout"
        }
      ]
    },
    {
      "cell_type": "code",
      "metadata": {
        "colab": {
          "base_uri": "https://localhost:8080/"
        },
        "id": "WRZ13d1CUxBa",
        "outputId": "c0339968-980c-4694-fc8a-5d0492ba5237"
      },
      "source": [
        "from string import ascii_letters\n",
        "import numpy as np\n",
        "import pandas as pd\n",
        "import seaborn as sns\n",
        "import matplotlib.pyplot as plt\n",
        "from sklearn import preprocessing\n",
        "import io\n",
        "  \n",
        "df = pd.read_csv(io.BytesIO(uploaded['asteroid_types.csv'])) \n",
        "df.columns"
      ],
      "execution_count": null,
      "outputs": [
        {
          "output_type": "execute_result",
          "data": {
            "text/plain": [
              "Index(['Feature1', 'Feature2', 'Feature3', 'Feature4', 'Feature5', 'Feature6',\n",
              "       'Classification'],\n",
              "      dtype='object')"
            ]
          },
          "metadata": {
            "tags": []
          },
          "execution_count": 24
        }
      ]
    },
    {
      "cell_type": "markdown",
      "metadata": {
        "id": "xcwo4NVxjWTp"
      },
      "source": [
        "# 1. Analizar el conjunto de datos"
      ]
    },
    {
      "cell_type": "code",
      "metadata": {
        "colab": {
          "base_uri": "https://localhost:8080/"
        },
        "id": "-8h9yGm0VHxx",
        "outputId": "764d4b27-4c96-4101-c13f-fabf08638217"
      },
      "source": [
        "df.isnull().values.any()"
      ],
      "execution_count": null,
      "outputs": [
        {
          "output_type": "execute_result",
          "data": {
            "text/plain": [
              "False"
            ]
          },
          "metadata": {
            "tags": []
          },
          "execution_count": 25
        }
      ]
    },
    {
      "cell_type": "code",
      "metadata": {
        "colab": {
          "base_uri": "https://localhost:8080/",
          "height": 297
        },
        "id": "YCM6GEK8VJkC",
        "outputId": "61d4bf20-dd43-44c7-de38-c83d9028388b"
      },
      "source": [
        "df.describe()"
      ],
      "execution_count": null,
      "outputs": [
        {
          "output_type": "execute_result",
          "data": {
            "text/html": [
              "<div>\n",
              "<style scoped>\n",
              "    .dataframe tbody tr th:only-of-type {\n",
              "        vertical-align: middle;\n",
              "    }\n",
              "\n",
              "    .dataframe tbody tr th {\n",
              "        vertical-align: top;\n",
              "    }\n",
              "\n",
              "    .dataframe thead th {\n",
              "        text-align: right;\n",
              "    }\n",
              "</style>\n",
              "<table border=\"1\" class=\"dataframe\">\n",
              "  <thead>\n",
              "    <tr style=\"text-align: right;\">\n",
              "      <th></th>\n",
              "      <th>Feature1</th>\n",
              "      <th>Feature2</th>\n",
              "      <th>Feature3</th>\n",
              "      <th>Feature4</th>\n",
              "      <th>Feature5</th>\n",
              "      <th>Feature6</th>\n",
              "      <th>Classification</th>\n",
              "    </tr>\n",
              "  </thead>\n",
              "  <tbody>\n",
              "    <tr>\n",
              "      <th>count</th>\n",
              "      <td>2000.000000</td>\n",
              "      <td>2000.000000</td>\n",
              "      <td>2000.000000</td>\n",
              "      <td>2000.000000</td>\n",
              "      <td>2000.000000</td>\n",
              "      <td>2000.000000</td>\n",
              "      <td>2000.000000</td>\n",
              "    </tr>\n",
              "    <tr>\n",
              "      <th>mean</th>\n",
              "      <td>0.001511</td>\n",
              "      <td>-0.013060</td>\n",
              "      <td>0.008257</td>\n",
              "      <td>0.707124</td>\n",
              "      <td>0.873520</td>\n",
              "      <td>0.008531</td>\n",
              "      <td>2.775000</td>\n",
              "    </tr>\n",
              "    <tr>\n",
              "      <th>std</th>\n",
              "      <td>0.988149</td>\n",
              "      <td>0.982257</td>\n",
              "      <td>0.974719</td>\n",
              "      <td>1.191548</td>\n",
              "      <td>0.937349</td>\n",
              "      <td>1.313270</td>\n",
              "      <td>0.612015</td>\n",
              "    </tr>\n",
              "    <tr>\n",
              "      <th>min</th>\n",
              "      <td>-3.424463</td>\n",
              "      <td>-3.671441</td>\n",
              "      <td>-3.196257</td>\n",
              "      <td>-4.686986</td>\n",
              "      <td>-3.479527</td>\n",
              "      <td>-3.420182</td>\n",
              "      <td>0.000000</td>\n",
              "    </tr>\n",
              "    <tr>\n",
              "      <th>25%</th>\n",
              "      <td>-0.663821</td>\n",
              "      <td>-0.639263</td>\n",
              "      <td>-0.640503</td>\n",
              "      <td>0.053565</td>\n",
              "      <td>0.325542</td>\n",
              "      <td>-0.997193</td>\n",
              "      <td>3.000000</td>\n",
              "    </tr>\n",
              "    <tr>\n",
              "      <th>50%</th>\n",
              "      <td>0.021062</td>\n",
              "      <td>-0.022352</td>\n",
              "      <td>0.003777</td>\n",
              "      <td>0.827173</td>\n",
              "      <td>0.901551</td>\n",
              "      <td>-0.415309</td>\n",
              "      <td>3.000000</td>\n",
              "    </tr>\n",
              "    <tr>\n",
              "      <th>75%</th>\n",
              "      <td>0.671152</td>\n",
              "      <td>0.630646</td>\n",
              "      <td>0.665473</td>\n",
              "      <td>1.464697</td>\n",
              "      <td>1.470986</td>\n",
              "      <td>0.997545</td>\n",
              "      <td>3.000000</td>\n",
              "    </tr>\n",
              "    <tr>\n",
              "      <th>max</th>\n",
              "      <td>3.390360</td>\n",
              "      <td>3.333229</td>\n",
              "      <td>3.375086</td>\n",
              "      <td>4.654234</td>\n",
              "      <td>4.631273</td>\n",
              "      <td>4.819340</td>\n",
              "      <td>3.000000</td>\n",
              "    </tr>\n",
              "  </tbody>\n",
              "</table>\n",
              "</div>"
            ],
            "text/plain": [
              "          Feature1     Feature2  ...     Feature6  Classification\n",
              "count  2000.000000  2000.000000  ...  2000.000000     2000.000000\n",
              "mean      0.001511    -0.013060  ...     0.008531        2.775000\n",
              "std       0.988149     0.982257  ...     1.313270        0.612015\n",
              "min      -3.424463    -3.671441  ...    -3.420182        0.000000\n",
              "25%      -0.663821    -0.639263  ...    -0.997193        3.000000\n",
              "50%       0.021062    -0.022352  ...    -0.415309        3.000000\n",
              "75%       0.671152     0.630646  ...     0.997545        3.000000\n",
              "max       3.390360     3.333229  ...     4.819340        3.000000\n",
              "\n",
              "[8 rows x 7 columns]"
            ]
          },
          "metadata": {
            "tags": []
          },
          "execution_count": 26
        }
      ]
    },
    {
      "cell_type": "code",
      "metadata": {
        "colab": {
          "base_uri": "https://localhost:8080/",
          "height": 195
        },
        "id": "i8PvXAygVQA5",
        "outputId": "3d25baa7-a20a-484e-a7bc-0ed44d6d7eb7"
      },
      "source": [
        "import warnings\n",
        "warnings.filterwarnings('ignore')\n",
        "\n",
        "#scatterplot\n",
        "sns.set()\n",
        "cols = df.columns\n",
        "sns.pairplot(df[cols], size = 2.5, y_vars=['Classification'])\n",
        "plt.show();\n",
        "\n",
        "# "
      ],
      "execution_count": null,
      "outputs": [
        {
          "output_type": "display_data",
          "data": {
            "image/png": "[encoded data removed]",
            "text/plain": [
              "<Figure size 1260x180 with 8 Axes>"
            ]
          },
          "metadata": {
            "tags": []
          }
        }
      ]
    },
    {
      "cell_type": "markdown",
      "metadata": {
        "id": "58Lqs7D4jDpR"
      },
      "source": [
        "Desbalanceo considerable, muchas instancias pertenencen a las **clase 3**"
      ]
    },
    {
      "cell_type": "code",
      "metadata": {
        "colab": {
          "base_uri": "https://localhost:8080/",
          "height": 572
        },
        "id": "5PelkzySV7iL",
        "outputId": "62395dd1-1ab6-4b04-9083-62d9b084cd55"
      },
      "source": [
        "# Compute the correlation matrix\n",
        "corr = df.corr()\n",
        "\n",
        "# Generate a mask for the upper triangle\n",
        "mask = np.triu(np.ones_like(corr, dtype=bool))\n",
        "\n",
        "# Set up the matplotlib figure\n",
        "f, ax = plt.subplots(figsize=(11, 9))\n",
        "\n",
        "# Generate a custom diverging colormap\n",
        "cmap = sns.diverging_palette(230, 20, as_cmap=True)\n",
        "\n",
        "# Draw the heatmap with the mask and correct aspect ratio\n",
        "sns.heatmap(corr, mask=mask, cmap=cmap, vmax=.3, center=0,\n",
        "            square=True, linewidths=.5, cbar_kws={\"shrink\": .5}, annot=True)"
      ],
      "execution_count": null,
      "outputs": [
        {
          "output_type": "execute_result",
          "data": {
            "text/plain": [
              "<matplotlib.axes._subplots.AxesSubplot at 0x7f3b589c3c90>"
            ]
          },
          "metadata": {
            "tags": []
          },
          "execution_count": 28
        },
        {
          "output_type": "display_data",
          "data": {
            "image/png": "[encoded data removed]",
            "text/plain": [
              "<Figure size 792x648 with 2 Axes>"
            ]
          },
          "metadata": {
            "tags": []
          }
        }
      ]
    },
    {
      "cell_type": "markdown",
      "metadata": {
        "id": "zAdWrMld-_8r"
      },
      "source": [
        "La matriz anterior muestra que las variables que más repercuten en el tipo de asteroide son la **Features 4 y 5**. El resto poco \"aportan\"."
      ]
    },
    {
      "cell_type": "markdown",
      "metadata": {
        "id": "bW2iHF_Zjd0S"
      },
      "source": [
        "# 2. Normalizar datos y aplicar filtros que hagan falta"
      ]
    },
    {
      "cell_type": "code",
      "metadata": {
        "colab": {
          "base_uri": "https://localhost:8080/",
          "height": 204
        },
        "id": "3aj9HOdNl9jH",
        "outputId": "5274b988-4680-477f-efeb-24d972a7589f"
      },
      "source": [
        "df.iloc[:, :-1].head()"
      ],
      "execution_count": null,
      "outputs": [
        {
          "output_type": "execute_result",
          "data": {
            "text/html": [
              "<div>\n",
              "<style scoped>\n",
              "    .dataframe tbody tr th:only-of-type {\n",
              "        vertical-align: middle;\n",
              "    }\n",
              "\n",
              "    .dataframe tbody tr th {\n",
              "        vertical-align: top;\n",
              "    }\n",
              "\n",
              "    .dataframe thead th {\n",
              "        text-align: right;\n",
              "    }\n",
              "</style>\n",
              "<table border=\"1\" class=\"dataframe\">\n",
              "  <thead>\n",
              "    <tr style=\"text-align: right;\">\n",
              "      <th></th>\n",
              "      <th>Feature1</th>\n",
              "      <th>Feature2</th>\n",
              "      <th>Feature3</th>\n",
              "      <th>Feature4</th>\n",
              "      <th>Feature5</th>\n",
              "      <th>Feature6</th>\n",
              "    </tr>\n",
              "  </thead>\n",
              "  <tbody>\n",
              "    <tr>\n",
              "      <th>0</th>\n",
              "      <td>0.015724</td>\n",
              "      <td>-1.383637</td>\n",
              "      <td>0.821846</td>\n",
              "      <td>1.314887</td>\n",
              "      <td>-0.071768</td>\n",
              "      <td>2.342294</td>\n",
              "    </tr>\n",
              "    <tr>\n",
              "      <th>1</th>\n",
              "      <td>0.146700</td>\n",
              "      <td>0.778094</td>\n",
              "      <td>0.486682</td>\n",
              "      <td>-0.697206</td>\n",
              "      <td>0.047063</td>\n",
              "      <td>0.651647</td>\n",
              "    </tr>\n",
              "    <tr>\n",
              "      <th>2</th>\n",
              "      <td>0.012067</td>\n",
              "      <td>1.299313</td>\n",
              "      <td>0.047187</td>\n",
              "      <td>0.752812</td>\n",
              "      <td>0.898408</td>\n",
              "      <td>0.835497</td>\n",
              "    </tr>\n",
              "    <tr>\n",
              "      <th>3</th>\n",
              "      <td>-0.847860</td>\n",
              "      <td>0.262294</td>\n",
              "      <td>-0.162009</td>\n",
              "      <td>1.095407</td>\n",
              "      <td>0.549862</td>\n",
              "      <td>1.515246</td>\n",
              "    </tr>\n",
              "    <tr>\n",
              "      <th>4</th>\n",
              "      <td>1.286735</td>\n",
              "      <td>1.907767</td>\n",
              "      <td>-0.380351</td>\n",
              "      <td>-0.145083</td>\n",
              "      <td>0.111280</td>\n",
              "      <td>-0.076647</td>\n",
              "    </tr>\n",
              "  </tbody>\n",
              "</table>\n",
              "</div>"
            ],
            "text/plain": [
              "   Feature1  Feature2  Feature3  Feature4  Feature5  Feature6\n",
              "0  0.015724 -1.383637  0.821846  1.314887 -0.071768  2.342294\n",
              "1  0.146700  0.778094  0.486682 -0.697206  0.047063  0.651647\n",
              "2  0.012067  1.299313  0.047187  0.752812  0.898408  0.835497\n",
              "3 -0.847860  0.262294 -0.162009  1.095407  0.549862  1.515246\n",
              "4  1.286735  1.907767 -0.380351 -0.145083  0.111280 -0.076647"
            ]
          },
          "metadata": {
            "tags": []
          },
          "execution_count": 29
        }
      ]
    },
    {
      "cell_type": "markdown",
      "metadata": {
        "id": "H1tC6_e2_gDN"
      },
      "source": [
        "Voy a **normalizar las Features** *texto en cursiva* de tal forma que sus valores queden entre 0 y 1."
      ]
    },
    {
      "cell_type": "code",
      "metadata": {
        "colab": {
          "base_uri": "https://localhost:8080/",
          "height": 204
        },
        "id": "YnhPtLQglCb-",
        "outputId": "7df3d1f7-fd40-437b-8ebc-c61af9a7dea9"
      },
      "source": [
        "min_max_scaler = preprocessing.MinMaxScaler()\n",
        "x_scaled = min_max_scaler.fit_transform(df.iloc[:, :-1])\n",
        "df_normalized = pd.DataFrame(x_scaled)\n",
        "df_normalized['Classification'] = df.Classification.values\n",
        "df_normalized.columns = df.columns\n",
        "df_normalized.head()"
      ],
      "execution_count": null,
      "outputs": [
        {
          "output_type": "execute_result",
          "data": {
            "text/html": [
              "<div>\n",
              "<style scoped>\n",
              "    .dataframe tbody tr th:only-of-type {\n",
              "        vertical-align: middle;\n",
              "    }\n",
              "\n",
              "    .dataframe tbody tr th {\n",
              "        vertical-align: top;\n",
              "    }\n",
              "\n",
              "    .dataframe thead th {\n",
              "        text-align: right;\n",
              "    }\n",
              "</style>\n",
              "<table border=\"1\" class=\"dataframe\">\n",
              "  <thead>\n",
              "    <tr style=\"text-align: right;\">\n",
              "      <th></th>\n",
              "      <th>Feature1</th>\n",
              "      <th>Feature2</th>\n",
              "      <th>Feature3</th>\n",
              "      <th>Feature4</th>\n",
              "      <th>Feature5</th>\n",
              "      <th>Feature6</th>\n",
              "      <th>Classification</th>\n",
              "    </tr>\n",
              "  </thead>\n",
              "  <tbody>\n",
              "    <tr>\n",
              "      <th>0</th>\n",
              "      <td>0.504810</td>\n",
              "      <td>0.326611</td>\n",
              "      <td>0.611458</td>\n",
              "      <td>0.642515</td>\n",
              "      <td>0.420151</td>\n",
              "      <td>0.699370</td>\n",
              "      <td>3</td>\n",
              "    </tr>\n",
              "    <tr>\n",
              "      <th>1</th>\n",
              "      <td>0.524029</td>\n",
              "      <td>0.635224</td>\n",
              "      <td>0.560455</td>\n",
              "      <td>0.427116</td>\n",
              "      <td>0.434802</td>\n",
              "      <td>0.494183</td>\n",
              "      <td>2</td>\n",
              "    </tr>\n",
              "    <tr>\n",
              "      <th>2</th>\n",
              "      <td>0.504273</td>\n",
              "      <td>0.709634</td>\n",
              "      <td>0.493574</td>\n",
              "      <td>0.582343</td>\n",
              "      <td>0.539766</td>\n",
              "      <td>0.516496</td>\n",
              "      <td>3</td>\n",
              "    </tr>\n",
              "    <tr>\n",
              "      <th>3</th>\n",
              "      <td>0.378088</td>\n",
              "      <td>0.561587</td>\n",
              "      <td>0.461739</td>\n",
              "      <td>0.619019</td>\n",
              "      <td>0.496793</td>\n",
              "      <td>0.598994</td>\n",
              "      <td>3</td>\n",
              "    </tr>\n",
              "    <tr>\n",
              "      <th>4</th>\n",
              "      <td>0.691316</td>\n",
              "      <td>0.796498</td>\n",
              "      <td>0.428513</td>\n",
              "      <td>0.486222</td>\n",
              "      <td>0.442719</td>\n",
              "      <td>0.405792</td>\n",
              "      <td>0</td>\n",
              "    </tr>\n",
              "  </tbody>\n",
              "</table>\n",
              "</div>"
            ],
            "text/plain": [
              "   Feature1  Feature2  Feature3  Feature4  Feature5  Feature6  Classification\n",
              "0  0.504810  0.326611  0.611458  0.642515  0.420151  0.699370               3\n",
              "1  0.524029  0.635224  0.560455  0.427116  0.434802  0.494183               2\n",
              "2  0.504273  0.709634  0.493574  0.582343  0.539766  0.516496               3\n",
              "3  0.378088  0.561587  0.461739  0.619019  0.496793  0.598994               3\n",
              "4  0.691316  0.796498  0.428513  0.486222  0.442719  0.405792               0"
            ]
          },
          "metadata": {
            "tags": []
          },
          "execution_count": 30
        }
      ]
    },
    {
      "cell_type": "code",
      "metadata": {
        "colab": {
          "base_uri": "https://localhost:8080/",
          "height": 297
        },
        "id": "Yd_Q74vsm1Km",
        "outputId": "a5e0ed2a-4a4e-4788-9966-251f3a6cecf5"
      },
      "source": [
        "df_normalized.describe()"
      ],
      "execution_count": null,
      "outputs": [
        {
          "output_type": "execute_result",
          "data": {
            "text/html": [
              "<div>\n",
              "<style scoped>\n",
              "    .dataframe tbody tr th:only-of-type {\n",
              "        vertical-align: middle;\n",
              "    }\n",
              "\n",
              "    .dataframe tbody tr th {\n",
              "        vertical-align: top;\n",
              "    }\n",
              "\n",
              "    .dataframe thead th {\n",
              "        text-align: right;\n",
              "    }\n",
              "</style>\n",
              "<table border=\"1\" class=\"dataframe\">\n",
              "  <thead>\n",
              "    <tr style=\"text-align: right;\">\n",
              "      <th></th>\n",
              "      <th>Feature1</th>\n",
              "      <th>Feature2</th>\n",
              "      <th>Feature3</th>\n",
              "      <th>Feature4</th>\n",
              "      <th>Feature5</th>\n",
              "      <th>Feature6</th>\n",
              "      <th>Classification</th>\n",
              "    </tr>\n",
              "  </thead>\n",
              "  <tbody>\n",
              "    <tr>\n",
              "      <th>count</th>\n",
              "      <td>2000.000000</td>\n",
              "      <td>2000.000000</td>\n",
              "      <td>2000.000000</td>\n",
              "      <td>2000.000000</td>\n",
              "      <td>2000.000000</td>\n",
              "      <td>2000.000000</td>\n",
              "      <td>2000.000000</td>\n",
              "    </tr>\n",
              "    <tr>\n",
              "      <th>mean</th>\n",
              "      <td>0.502724</td>\n",
              "      <td>0.522277</td>\n",
              "      <td>0.487650</td>\n",
              "      <td>0.577452</td>\n",
              "      <td>0.536698</td>\n",
              "      <td>0.416130</td>\n",
              "      <td>2.775000</td>\n",
              "    </tr>\n",
              "    <tr>\n",
              "      <th>std</th>\n",
              "      <td>0.145000</td>\n",
              "      <td>0.140229</td>\n",
              "      <td>0.148329</td>\n",
              "      <td>0.127558</td>\n",
              "      <td>0.115568</td>\n",
              "      <td>0.159387</td>\n",
              "      <td>0.612015</td>\n",
              "    </tr>\n",
              "    <tr>\n",
              "      <th>min</th>\n",
              "      <td>0.000000</td>\n",
              "      <td>0.000000</td>\n",
              "      <td>0.000000</td>\n",
              "      <td>0.000000</td>\n",
              "      <td>0.000000</td>\n",
              "      <td>0.000000</td>\n",
              "      <td>0.000000</td>\n",
              "    </tr>\n",
              "    <tr>\n",
              "      <th>25%</th>\n",
              "      <td>0.405094</td>\n",
              "      <td>0.432880</td>\n",
              "      <td>0.388924</td>\n",
              "      <td>0.507487</td>\n",
              "      <td>0.469136</td>\n",
              "      <td>0.294069</td>\n",
              "      <td>3.000000</td>\n",
              "    </tr>\n",
              "    <tr>\n",
              "      <th>50%</th>\n",
              "      <td>0.505593</td>\n",
              "      <td>0.520951</td>\n",
              "      <td>0.486968</td>\n",
              "      <td>0.590304</td>\n",
              "      <td>0.540154</td>\n",
              "      <td>0.364690</td>\n",
              "      <td>3.000000</td>\n",
              "    </tr>\n",
              "    <tr>\n",
              "      <th>75%</th>\n",
              "      <td>0.600986</td>\n",
              "      <td>0.614174</td>\n",
              "      <td>0.587662</td>\n",
              "      <td>0.658552</td>\n",
              "      <td>0.610361</td>\n",
              "      <td>0.536163</td>\n",
              "      <td>3.000000</td>\n",
              "    </tr>\n",
              "    <tr>\n",
              "      <th>max</th>\n",
              "      <td>1.000000</td>\n",
              "      <td>1.000000</td>\n",
              "      <td>1.000000</td>\n",
              "      <td>1.000000</td>\n",
              "      <td>1.000000</td>\n",
              "      <td>1.000000</td>\n",
              "      <td>3.000000</td>\n",
              "    </tr>\n",
              "  </tbody>\n",
              "</table>\n",
              "</div>"
            ],
            "text/plain": [
              "          Feature1     Feature2  ...     Feature6  Classification\n",
              "count  2000.000000  2000.000000  ...  2000.000000     2000.000000\n",
              "mean      0.502724     0.522277  ...     0.416130        2.775000\n",
              "std       0.145000     0.140229  ...     0.159387        0.612015\n",
              "min       0.000000     0.000000  ...     0.000000        0.000000\n",
              "25%       0.405094     0.432880  ...     0.294069        3.000000\n",
              "50%       0.505593     0.520951  ...     0.364690        3.000000\n",
              "75%       0.600986     0.614174  ...     0.536163        3.000000\n",
              "max       1.000000     1.000000  ...     1.000000        3.000000\n",
              "\n",
              "[8 rows x 7 columns]"
            ]
          },
          "metadata": {
            "tags": []
          },
          "execution_count": 31
        }
      ]
    },
    {
      "cell_type": "markdown",
      "metadata": {
        "id": "-jBNdBd8jf4T"
      },
      "source": [
        "# 3. Dividir en train, validacion y testeo"
      ]
    },
    {
      "cell_type": "code",
      "metadata": {
        "colab": {
          "base_uri": "https://localhost:8080/"
        },
        "id": "VGFlc1bfnKZu",
        "outputId": "ab96eda5-5588-4586-e7d7-630b640ceb2c"
      },
      "source": [
        "from sklearn.model_selection import train_test_split, StratifiedKFold, GridSearchCV\n",
        "\n",
        "# Primero obtenemos el conjunto de testeo. Dejo un conjunto de datos \"original\" por si quiero hacer kffolds automaticos\n",
        "x_train_original, x_test, y_train_original, y_test = train_test_split(df_normalized.iloc[:, :-1], df_normalized.Classification,\n",
        "                                                    test_size=0.15,\n",
        "                                                    random_state=0,\n",
        "                                                    stratify=df_normalized.Classification)\n",
        "# a partir del train anterior, hacemos split de train-validacion\n",
        "# x_train, x_val, y_train, y_val = train_test_split(x_train_original, y_train_original,\n",
        "#                                                     test_size=0.1,\n",
        "#                                                     random_state=0,\n",
        "#                                                     stratify=y_train_original)\n",
        "print('La filas de train son ' + str(x_train_original.shape[0]))\n",
        "# print('La filas de validacion son ' + str(x_val.shape[0]))\n",
        "print('La filas de testeo son ' + str(x_test.shape[0]))"
      ],
      "execution_count": null,
      "outputs": [
        {
          "output_type": "stream",
          "text": [
            "La filas de train son 1700\n",
            "La filas de testeo son 300\n"
          ],
          "name": "stdout"
        }
      ]
    },
    {
      "cell_type": "markdown",
      "metadata": {
        "id": "4ymwc945jlqD"
      },
      "source": [
        "# 4. Probar Algoritmos, implementar grid search para F1-Score"
      ]
    },
    {
      "cell_type": "code",
      "metadata": {
        "id": "hJe7KxSRrhvz"
      },
      "source": [
        "from sklearn.ensemble import RandomForestClassifier\n",
        "from sklearn.datasets import make_regression\n",
        "from sklearn.feature_selection import SelectFromModel\n",
        "from sklearn.linear_model import LinearRegression, LogisticRegression\n",
        "\n",
        "# 4.1 regresion logistica (opcional)\n",
        "# 4.2 Random Forest\n",
        "# 4.3 Lightgbm\n",
        "# 4.4 xgboost "
      ],
      "execution_count": null,
      "outputs": []
    },
    {
      "cell_type": "markdown",
      "metadata": {
        "id": "uIbR0fT-u5_S"
      },
      "source": [
        "**RandomForest**"
      ]
    },
    {
      "cell_type": "code",
      "metadata": {
        "colab": {
          "base_uri": "https://localhost:8080/"
        },
        "id": "zwEfatPYtEEK",
        "outputId": "53236971-4336-490d-d00b-b320d8fad1d1"
      },
      "source": [
        "kfolds = StratifiedKFold(6)\n",
        "\n",
        "# RandomForest\n",
        "rfc=RandomForestClassifier(random_state=42)\n",
        "param_grid = { \n",
        "    'n_estimators': [25, 50, 100],\n",
        "    'max_features': ['auto', 'sqrt', 'log2'],\n",
        "    'max_depth': [6,8,11, 14, 16],\n",
        "    'criterion': ['gini', 'entropy']\n",
        "}\n",
        "\n",
        "CV_rfc = GridSearchCV(estimator=rfc, param_grid=param_grid, cv= kfolds.split(x_train_original,y_train_original), verbose = 3, n_jobs = -1, scoring = 'f1_macro')\n",
        "CV_rfc.fit(x_train_original,y_train_original)\n",
        "print(CV_rfc.best_params_)"
      ],
      "execution_count": null,
      "outputs": [
        {
          "output_type": "stream",
          "text": [
            "Fitting 6 folds for each of 90 candidates, totalling 540 fits\n"
          ],
          "name": "stdout"
        },
        {
          "output_type": "stream",
          "text": [
            "[Parallel(n_jobs=-1)]: Using backend LokyBackend with 2 concurrent workers.\n",
            "[Parallel(n_jobs=-1)]: Done  28 tasks      | elapsed:    4.3s\n",
            "[Parallel(n_jobs=-1)]: Done 124 tasks      | elapsed:   18.1s\n",
            "[Parallel(n_jobs=-1)]: Done 284 tasks      | elapsed:   43.4s\n",
            "[Parallel(n_jobs=-1)]: Done 508 tasks      | elapsed:  1.6min\n"
          ],
          "name": "stderr"
        },
        {
          "output_type": "stream",
          "text": [
            "{'criterion': 'gini', 'max_depth': 14, 'max_features': 'auto', 'n_estimators': 50}\n"
          ],
          "name": "stdout"
        },
        {
          "output_type": "stream",
          "text": [
            "[Parallel(n_jobs=-1)]: Done 540 out of 540 | elapsed:  1.7min finished\n"
          ],
          "name": "stderr"
        }
      ]
    },
    {
      "cell_type": "code",
      "metadata": {
        "colab": {
          "base_uri": "https://localhost:8080/"
        },
        "id": "73An1mPpuz3V",
        "outputId": "9be50952-7a58-4452-cfb2-2d7a589df662"
      },
      "source": [
        "print(CV_rfc.best_params_)\n",
        "print('Score: ' + str(CV_rfc.best_score_))\n",
        "\n",
        "# Calculo f1-score\n",
        "from sklearn.metrics import f1_score\n",
        "\n",
        "y_pred = CV_rfc.best_estimator_.predict(x_test)\n",
        "y_real = y_test\n",
        "\n",
        "print('f1-score es ' + str(f1_score(y_real, y_pred, average='macro')))"
      ],
      "execution_count": null,
      "outputs": [
        {
          "output_type": "stream",
          "text": [
            "{'criterion': 'gini', 'max_depth': 14, 'max_features': 'auto', 'n_estimators': 50}\n",
            "Score: 0.6907467696487676\n",
            "f1-score es 0.6579265137139899\n"
          ],
          "name": "stdout"
        }
      ]
    },
    {
      "cell_type": "markdown",
      "metadata": {
        "id": "ajrvEldnxKF-"
      },
      "source": [
        "**LightGBM**"
      ]
    },
    {
      "cell_type": "code",
      "metadata": {
        "colab": {
          "base_uri": "https://localhost:8080/"
        },
        "id": "yWZsO68lxNk7",
        "outputId": "864a49e3-45b1-4bcb-cd59-04c6bd754fb0"
      },
      "source": [
        "import lightgbm as lgb\n",
        "\n",
        "param_grid = {\n",
        "    # 'reg_alpha': [0, 0.1, 0.5], # lambda_l1\n",
        "    'max_depth' : [4, 5, 8, 10 , 11],\n",
        "    'num_iterations': [100, 200],\n",
        "    'learning_rate': [0.001, 0.025, 0.05]\n",
        "    # 'lambda_l2': [0, 1]\n",
        "    }\n",
        "\n",
        "lgb_estimator = lgb.LGBMClassifier(boosting_type='gbdt',  objective='multiclass', metric='multi_logloss')\n",
        "\n",
        "CV_lgm = GridSearchCV(estimator=lgb_estimator, param_grid=param_grid, cv= kfolds.split(x_train_original,y_train_original), verbose = 3, n_jobs = -1, scoring = 'f1_macro')\n",
        "lgb_model = CV_lgm.fit(X=x_train_original, y=y_train_original)\n",
        "\n",
        "print(lgb_model.best_params_, lgb_model.best_score_)"
      ],
      "execution_count": null,
      "outputs": [
        {
          "output_type": "stream",
          "text": [
            "Fitting 6 folds for each of 30 candidates, totalling 180 fits\n"
          ],
          "name": "stdout"
        },
        {
          "output_type": "stream",
          "text": [
            "[Parallel(n_jobs=-1)]: Using backend LokyBackend with 2 concurrent workers.\n",
            "[Parallel(n_jobs=-1)]: Done  28 tasks      | elapsed:    6.9s\n",
            "[Parallel(n_jobs=-1)]: Done 124 tasks      | elapsed:   47.8s\n",
            "[Parallel(n_jobs=-1)]: Done 180 out of 180 | elapsed:  1.2min finished\n"
          ],
          "name": "stderr"
        },
        {
          "output_type": "stream",
          "text": [
            "{'learning_rate': 0.05, 'max_depth': 5, 'num_iterations': 100} 0.6937511130676625\n"
          ],
          "name": "stdout"
        }
      ]
    },
    {
      "cell_type": "code",
      "metadata": {
        "colab": {
          "base_uri": "https://localhost:8080/"
        },
        "id": "sBkGklHZzqJp",
        "outputId": "855ec581-d422-4e5b-d40a-46abdeefb196"
      },
      "source": [
        "print(CV_lgm.best_params_)\n",
        "print('Score: ' + str(CV_lgm.best_score_))\n",
        "\n",
        "# Calculo f1-score\n",
        "from sklearn.metrics import f1_score\n",
        "\n",
        "y_pred = CV_lgm.best_estimator_.predict(x_test)\n",
        "y_real = y_test\n",
        "\n",
        "print('f1-score es ' + str(f1_score(y_real, y_pred, average='macro')))"
      ],
      "execution_count": null,
      "outputs": [
        {
          "output_type": "stream",
          "text": [
            "{'learning_rate': 0.05, 'max_depth': 5, 'num_iterations': 100}\n",
            "Score: 0.6937511130676625\n",
            "f1-score es 0.7027243589743589\n"
          ],
          "name": "stdout"
        }
      ]
    },
    {
      "cell_type": "markdown",
      "metadata": {
        "id": "7haCL229JZb9"
      },
      "source": [
        "**Xgboost**"
      ]
    },
    {
      "cell_type": "code",
      "metadata": {
        "colab": {
          "base_uri": "https://localhost:8080/"
        },
        "id": "P-xud8a5JbBd",
        "outputId": "47a45df6-9fa1-4bc3-9f5c-320bf26fe27b"
      },
      "source": [
        "import xgboost as xgb\n",
        "from xgboost import XGBClassifier\n",
        "\n",
        "# A parameter grid for XGBoost\n",
        "params = {\n",
        "        'min_child_weight': [1, 5, 10],\n",
        "        'gamma': [0.5, 1, 1.5, 2, 5],\n",
        "        'subsample': [0.6, 0.8, 1.0],\n",
        "        'colsample_bytree': [0.6, 0.8, 1.0],\n",
        "        'max_depth': [3, 4, 5, 7, 9],\n",
        "        'n_estimators': [100, 200],\n",
        "        'learning_rate': [0.025, 0.05, 0.1]\n",
        "        }\n",
        "    \n",
        "xgb_estimator = XGBClassifier(objective='multi:softmax')\n",
        "\n",
        "CV_xgb = GridSearchCV(estimator=xgb_estimator, param_grid=param_grid, cv= kfolds.split(x_train_original,y_train_original), verbose = 3, n_jobs = -1, scoring = 'f1_macro')\n",
        "xgb_model = CV_xgb.fit(X=x_train_original, y=y_train_original)\n",
        "\n",
        "print(xgb_model.best_params_, xgb_model.best_score_)"
      ],
      "execution_count": null,
      "outputs": [
        {
          "output_type": "stream",
          "text": [
            "Fitting 6 folds for each of 30 candidates, totalling 180 fits\n"
          ],
          "name": "stdout"
        },
        {
          "output_type": "stream",
          "text": [
            "[Parallel(n_jobs=-1)]: Using backend LokyBackend with 2 concurrent workers.\n",
            "[Parallel(n_jobs=-1)]: Done  28 tasks      | elapsed:   10.7s\n",
            "[Parallel(n_jobs=-1)]: Done 124 tasks      | elapsed:   58.0s\n",
            "[Parallel(n_jobs=-1)]: Done 180 out of 180 | elapsed:  1.4min finished\n"
          ],
          "name": "stderr"
        },
        {
          "output_type": "stream",
          "text": [
            "{'learning_rate': 0.05, 'max_depth': 4, 'num_iterations': 100} 0.6937251784722984\n"
          ],
          "name": "stdout"
        }
      ]
    },
    {
      "cell_type": "code",
      "metadata": {
        "colab": {
          "base_uri": "https://localhost:8080/"
        },
        "id": "2pxnIaVdKjAk",
        "outputId": "e713d190-87ed-4b4e-9bf4-e691747fabc6"
      },
      "source": [
        "print(CV_xgb.best_params_)\n",
        "print('Score: ' + str(CV_xgb.best_score_))\n",
        "\n",
        "# Calculo f1-score\n",
        "from sklearn.metrics import f1_score\n",
        "\n",
        "y_pred = CV_xgb.best_estimator_.predict(x_test)\n",
        "y_real = y_test\n",
        "\n",
        "print('f1-score es ' + str(f1_score(y_real, y_pred, average='macro')))"
      ],
      "execution_count": null,
      "outputs": [
        {
          "output_type": "stream",
          "text": [
            "{'learning_rate': 0.05, 'max_depth': 4, 'num_iterations': 100}\n",
            "Score: 0.6937251784722984\n",
            "f1-score es 0.602652275464399\n"
          ],
          "name": "stdout"
        }
      ]
    },
    {
      "cell_type": "markdown",
      "metadata": {
        "id": "e6euLLX5GqdC"
      },
      "source": [
        "# 5. Ensemble y solución final"
      ]
    },
    {
      "cell_type": "code",
      "metadata": {
        "colab": {
          "base_uri": "https://localhost:8080/"
        },
        "id": "hN_y3vagGtbh",
        "outputId": "0030e75e-87f4-4c80-bdec-728221da5424"
      },
      "source": [
        "# ensemble\n",
        "y_pred_rfc = CV_rfc.best_estimator_.predict(x_test)\n",
        "y_pred_lgm = CV_lgm.best_estimator_.predict(x_test)\n",
        "y_pred_xgb = CV_xgb.best_estimator_.predict(x_test)\n",
        "\n",
        "#  a la hora de asignar los pesos, pondero en función del score\n",
        "y_pred_final = y_pred_rfc * 0.05 +  y_pred_lgm * 0.9 + y_pred_xgb * 0.05\n",
        "y_pred_final = y_pred_final.astype(int)\n",
        "\n",
        "print('f1-score FINAL es ' + str(f1_score(y_real, y_pred_final, average='macro')))"
      ],
      "execution_count": null,
      "outputs": [
        {
          "output_type": "stream",
          "text": [
            "f1-score FINAL es 0.7221803148866488\n"
          ],
          "name": "stdout"
        }
      ]
    },
    {
      "cell_type": "markdown",
      "metadata": {
        "id": "9YYBSunc-Pos"
      },
      "source": [
        "El valor del f1-score nos muestra un resultao de **0.72 sobre 1**, lo cual no está nada mal para la poca cantidad de datos pero se puede quedar corto devido, en gran medida, al gran desbalanceo que hay (casi todas las instancias son de las clase 3)."
      ]
    }
  ]
}