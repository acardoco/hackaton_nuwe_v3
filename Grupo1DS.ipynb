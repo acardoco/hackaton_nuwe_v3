{
  "nbformat": 4,
  "nbformat_minor": 0,
  "metadata": {
    "colab": {
      "name": "Grupo1DS.ipynb",
      "provenance": [],
      "collapsed_sections": [],
      "authorship_tag": "ABX9TyPgPOC42Pj6z+Jh3uotp2v6",
      "include_colab_link": true
    },
    "kernelspec": {
      "name": "python3",
      "display_name": "Python 3"
    },
    "language_info": {
      "name": "python"
    }
  },
  "cells": [
    {
      "cell_type": "markdown",
      "metadata": {
        "id": "view-in-github",
        "colab_type": "text"
      },
      "source": [
        "<a href=\"https://colab.research.google.com/github/acardoco/hackaton_nuwe_v3/blob/main/Grupo1DS.ipynb\" target=\"_parent\"><img src=\"https://colab.research.google.com/assets/colab-badge.svg\" alt=\"Open In Colab\"/></a>"
      ]
    },
    {
      "cell_type": "markdown",
      "metadata": {
        "id": "_eOvv-HzdUJe"
      },
      "source": [
        "\n",
        "\n",
        "*   Hack that startup 3\n",
        "*   Team: Grupo1\n",
        "*   Autores:\n",
        "*   Andrés Cardoso\n",
        "*   Raúl Hernáez\n",
        "\n",
        "\n",
        "\n",
        "\n",
        "\n"
      ]
    },
    {
      "cell_type": "code",
      "metadata": {
        "colab": {
          "resources": {
            "http://localhost:8080/nbextensions/google.colab/files.js": {
              "data": "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",
              "ok": true,
              "headers": [
                [
                  "content-type",
                  "application/javascript"
                ]
              ],
              "status": 200,
              "status_text": ""
            }
          },
          "base_uri": "https://localhost:8080/",
          "height": 72
        },
        "id": "Hwl9eyoEdluT",
        "outputId": "68e1facf-646a-47d7-b677-485e4927b4b4"
      },
      "source": [
        "from google.colab import files \n",
        "  \n",
        "  \n",
        "uploaded = files.upload()"
      ],
      "execution_count": null,
      "outputs": [
        {
          "output_type": "display_data",
          "data": {
            "text/html": [
              "\n",
              "     <input type=\"file\" id=\"files-a6cadfc6-caa4-4d0f-9e1d-625167c137a8\" name=\"files[]\" multiple disabled\n",
              "        style=\"border:none\" />\n",
              "     <output id=\"result-a6cadfc6-caa4-4d0f-9e1d-625167c137a8\">\n",
              "      Upload widget is only available when the cell has been executed in the\n",
              "      current browser session. Please rerun this cell to enable.\n",
              "      </output>\n",
              "      <script src=\"/nbextensions/google.colab/files.js\"></script> "
            ],
            "text/plain": [
              "<IPython.core.display.HTML object>"
            ]
          },
          "metadata": {
            "tags": []
          }
        },
        {
          "output_type": "stream",
          "text": [
            "Saving pha_asteroids.csv to pha_asteroids.csv\n"
          ],
          "name": "stdout"
        }
      ]
    },
    {
      "cell_type": "code",
      "metadata": {
        "colab": {
          "base_uri": "https://localhost:8080/",
          "height": 428
        },
        "id": "1yBFU7gyeV4t",
        "outputId": "e82a5af8-0fcb-48ab-84d8-30a7b1444477"
      },
      "source": [
        "from string import ascii_letters\n",
        "import numpy as np\n",
        "import pandas as pd\n",
        "import seaborn as sns\n",
        "import matplotlib.pyplot as plt\n",
        "from sklearn import preprocessing\n",
        "from sklearn.preprocessing import LabelEncoder\n",
        "import io\n",
        "  \n",
        "df = pd.read_csv(io.BytesIO(uploaded['pha_asteroids.csv'])) \n",
        "print(df.columns)\n",
        "df.head()"
      ],
      "execution_count": null,
      "outputs": [
        {
          "output_type": "stream",
          "text": [
            "Index(['spkid', 'full_name', 'a', 'e', 'i', 'om', 'w', 'q', 'ad', 'per_y',\n",
            "       'data_arc', 'condition_code', 'n_obs_used', 'n_del_obs_used',\n",
            "       'n_dop_obs_used', 'H', 'diameter', 'extent', 'albedo', 'rot_per', 'GM',\n",
            "       'BV', 'UB', 'IR', 'pha'],\n",
            "      dtype='object')\n"
          ],
          "name": "stdout"
        },
        {
          "output_type": "execute_result",
          "data": {
            "text/html": [
              "<div>\n",
              "<style scoped>\n",
              "    .dataframe tbody tr th:only-of-type {\n",
              "        vertical-align: middle;\n",
              "    }\n",
              "\n",
              "    .dataframe tbody tr th {\n",
              "        vertical-align: top;\n",
              "    }\n",
              "\n",
              "    .dataframe thead th {\n",
              "        text-align: right;\n",
              "    }\n",
              "</style>\n",
              "<table border=\"1\" class=\"dataframe\">\n",
              "  <thead>\n",
              "    <tr style=\"text-align: right;\">\n",
              "      <th></th>\n",
              "      <th>spkid</th>\n",
              "      <th>full_name</th>\n",
              "      <th>a</th>\n",
              "      <th>e</th>\n",
              "      <th>i</th>\n",
              "      <th>om</th>\n",
              "      <th>w</th>\n",
              "      <th>q</th>\n",
              "      <th>ad</th>\n",
              "      <th>per_y</th>\n",
              "      <th>data_arc</th>\n",
              "      <th>condition_code</th>\n",
              "      <th>n_obs_used</th>\n",
              "      <th>n_del_obs_used</th>\n",
              "      <th>n_dop_obs_used</th>\n",
              "      <th>H</th>\n",
              "      <th>diameter</th>\n",
              "      <th>extent</th>\n",
              "      <th>albedo</th>\n",
              "      <th>rot_per</th>\n",
              "      <th>GM</th>\n",
              "      <th>BV</th>\n",
              "      <th>UB</th>\n",
              "      <th>IR</th>\n",
              "      <th>pha</th>\n",
              "    </tr>\n",
              "  </thead>\n",
              "  <tbody>\n",
              "    <tr>\n",
              "      <th>0</th>\n",
              "      <td>2000433</td>\n",
              "      <td>433 Eros (A898 PA)</td>\n",
              "      <td>1.458167</td>\n",
              "      <td>0.222994</td>\n",
              "      <td>10.830513</td>\n",
              "      <td>304.299134</td>\n",
              "      <td>178.868934</td>\n",
              "      <td>1.133005</td>\n",
              "      <td>1.783330</td>\n",
              "      <td>1.760837</td>\n",
              "      <td>46330.0</td>\n",
              "      <td>0.0</td>\n",
              "      <td>8767</td>\n",
              "      <td>4.0</td>\n",
              "      <td>2.0</td>\n",
              "      <td>10.42</td>\n",
              "      <td>16.840</td>\n",
              "      <td>34.4x11.2x11.2</td>\n",
              "      <td>0.250</td>\n",
              "      <td>5.270</td>\n",
              "      <td>0.000446</td>\n",
              "      <td>0.921</td>\n",
              "      <td>0.531</td>\n",
              "      <td>NaN</td>\n",
              "      <td>N</td>\n",
              "    </tr>\n",
              "    <tr>\n",
              "      <th>1</th>\n",
              "      <td>2000719</td>\n",
              "      <td>719 Albert (A911 TB)</td>\n",
              "      <td>2.638378</td>\n",
              "      <td>0.546721</td>\n",
              "      <td>11.570400</td>\n",
              "      <td>183.858330</td>\n",
              "      <td>156.191216</td>\n",
              "      <td>1.195922</td>\n",
              "      <td>4.080833</td>\n",
              "      <td>4.285620</td>\n",
              "      <td>40008.0</td>\n",
              "      <td>0.0</td>\n",
              "      <td>1890</td>\n",
              "      <td>NaN</td>\n",
              "      <td>NaN</td>\n",
              "      <td>15.51</td>\n",
              "      <td>NaN</td>\n",
              "      <td>NaN</td>\n",
              "      <td>NaN</td>\n",
              "      <td>5.801</td>\n",
              "      <td>NaN</td>\n",
              "      <td>NaN</td>\n",
              "      <td>NaN</td>\n",
              "      <td>NaN</td>\n",
              "      <td>N</td>\n",
              "    </tr>\n",
              "    <tr>\n",
              "      <th>2</th>\n",
              "      <td>2000887</td>\n",
              "      <td>887 Alinda (A918 AA)</td>\n",
              "      <td>2.473534</td>\n",
              "      <td>0.570422</td>\n",
              "      <td>9.393849</td>\n",
              "      <td>110.433729</td>\n",
              "      <td>350.512509</td>\n",
              "      <td>1.062575</td>\n",
              "      <td>3.884493</td>\n",
              "      <td>3.890317</td>\n",
              "      <td>37722.0</td>\n",
              "      <td>0.0</td>\n",
              "      <td>2510</td>\n",
              "      <td>NaN</td>\n",
              "      <td>NaN</td>\n",
              "      <td>13.84</td>\n",
              "      <td>4.200</td>\n",
              "      <td>NaN</td>\n",
              "      <td>0.310</td>\n",
              "      <td>28.410</td>\n",
              "      <td>NaN</td>\n",
              "      <td>0.832</td>\n",
              "      <td>0.436</td>\n",
              "      <td>NaN</td>\n",
              "      <td>N</td>\n",
              "    </tr>\n",
              "    <tr>\n",
              "      <th>3</th>\n",
              "      <td>2001036</td>\n",
              "      <td>1036 Ganymed (A924 UB)</td>\n",
              "      <td>2.665194</td>\n",
              "      <td>0.533095</td>\n",
              "      <td>26.676143</td>\n",
              "      <td>215.544210</td>\n",
              "      <td>132.378538</td>\n",
              "      <td>1.244392</td>\n",
              "      <td>4.085995</td>\n",
              "      <td>4.351123</td>\n",
              "      <td>35257.0</td>\n",
              "      <td>0.0</td>\n",
              "      <td>7044</td>\n",
              "      <td>0.0</td>\n",
              "      <td>1.0</td>\n",
              "      <td>9.25</td>\n",
              "      <td>37.675</td>\n",
              "      <td>NaN</td>\n",
              "      <td>0.238</td>\n",
              "      <td>10.297</td>\n",
              "      <td>NaN</td>\n",
              "      <td>0.842</td>\n",
              "      <td>0.417</td>\n",
              "      <td>NaN</td>\n",
              "      <td>N</td>\n",
              "    </tr>\n",
              "    <tr>\n",
              "      <th>4</th>\n",
              "      <td>2001221</td>\n",
              "      <td>1221 Amor (1932 EA1)</td>\n",
              "      <td>1.919166</td>\n",
              "      <td>0.435488</td>\n",
              "      <td>11.880444</td>\n",
              "      <td>171.316487</td>\n",
              "      <td>26.677583</td>\n",
              "      <td>1.083392</td>\n",
              "      <td>2.754939</td>\n",
              "      <td>2.658746</td>\n",
              "      <td>32328.0</td>\n",
              "      <td>0.0</td>\n",
              "      <td>552</td>\n",
              "      <td>NaN</td>\n",
              "      <td>NaN</td>\n",
              "      <td>17.39</td>\n",
              "      <td>1.000</td>\n",
              "      <td>NaN</td>\n",
              "      <td>NaN</td>\n",
              "      <td>NaN</td>\n",
              "      <td>NaN</td>\n",
              "      <td>NaN</td>\n",
              "      <td>NaN</td>\n",
              "      <td>NaN</td>\n",
              "      <td>N</td>\n",
              "    </tr>\n",
              "  </tbody>\n",
              "</table>\n",
              "</div>"
            ],
            "text/plain": [
              "     spkid                 full_name         a         e  ...     BV     UB  IR  pha\n",
              "0  2000433        433 Eros (A898 PA)  1.458167  0.222994  ...  0.921  0.531 NaN    N\n",
              "1  2000719      719 Albert (A911 TB)  2.638378  0.546721  ...    NaN    NaN NaN    N\n",
              "2  2000887      887 Alinda (A918 AA)  2.473534  0.570422  ...  0.832  0.436 NaN    N\n",
              "3  2001036    1036 Ganymed (A924 UB)  2.665194  0.533095  ...  0.842  0.417 NaN    N\n",
              "4  2001221      1221 Amor (1932 EA1)  1.919166  0.435488  ...    NaN    NaN NaN    N\n",
              "\n",
              "[5 rows x 25 columns]"
            ]
          },
          "metadata": {
            "tags": []
          },
          "execution_count": 4
        }
      ]
    },
    {
      "cell_type": "markdown",
      "metadata": {
        "id": "sXAnHVpiehG5"
      },
      "source": [
        "Steps:\n",
        "\n",
        "1. Analizar el conjunto de datos\n",
        "2. Normalizar datos y aplicar filtros que hagan falta\n",
        "3. Dividir en entrenamiento/testeo\n",
        "4. Probar Algoritmos, implementar grid search para F1-Score \n",
        "5. Ensemble y resultado final"
      ]
    },
    {
      "cell_type": "markdown",
      "metadata": {
        "id": "uw99swf-elKJ"
      },
      "source": [
        "# 1. Analizar el conjunto de datos"
      ]
    },
    {
      "cell_type": "code",
      "metadata": {
        "colab": {
          "base_uri": "https://localhost:8080/"
        },
        "id": "iQL0_5Peen6b",
        "outputId": "ca9e7adf-0879-48ef-f993-95706f198ad3"
      },
      "source": [
        "df.isnull().values.any()"
      ],
      "execution_count": null,
      "outputs": [
        {
          "output_type": "execute_result",
          "data": {
            "text/plain": [
              "True"
            ]
          },
          "metadata": {
            "tags": []
          },
          "execution_count": 5
        }
      ]
    },
    {
      "cell_type": "code",
      "metadata": {
        "colab": {
          "base_uri": "https://localhost:8080/"
        },
        "id": "LGs8A9sAmuKi",
        "outputId": "a1922efe-f80b-4856-864a-224a2bd37e24"
      },
      "source": [
        "df['pha'].value_counts(normalize=True)"
      ],
      "execution_count": null,
      "outputs": [
        {
          "output_type": "execute_result",
          "data": {
            "text/plain": [
              "N    0.916383\n",
              "Y    0.083617\n",
              "Name: pha, dtype: float64"
            ]
          },
          "metadata": {
            "tags": []
          },
          "execution_count": 6
        }
      ]
    },
    {
      "cell_type": "markdown",
      "metadata": {
        "id": "qwysYXFCjeTh"
      },
      "source": [
        "**Label encoder de la variable target**"
      ]
    },
    {
      "cell_type": "code",
      "metadata": {
        "colab": {
          "base_uri": "https://localhost:8080/"
        },
        "id": "bVRU0kqGh2U-",
        "outputId": "29198b83-793d-4385-d3c9-97d6cb0875df"
      },
      "source": [
        "# convierto en numérico la variable de pha para que entre en la correlacion\n",
        "df = df[df['pha'].notna()]\n",
        "label_encoder = LabelEncoder()\n",
        "df['pha'] = df['pha'].astype(str)\n",
        "df['pha'] = label_encoder.fit_transform(df.pha)\n",
        "df.pha.astype(str)"
      ],
      "execution_count": null,
      "outputs": [
        {
          "output_type": "execute_result",
          "data": {
            "text/plain": [
              "0        0\n",
              "1        0\n",
              "2        0\n",
              "3        0\n",
              "4        0\n",
              "        ..\n",
              "25889    0\n",
              "25890    0\n",
              "25891    0\n",
              "25892    0\n",
              "25893    1\n",
              "Name: pha, Length: 25892, dtype: object"
            ]
          },
          "metadata": {
            "tags": []
          },
          "execution_count": 7
        }
      ]
    },
    {
      "cell_type": "markdown",
      "metadata": {
        "id": "PU7To7jMjiNC"
      },
      "source": [
        "**Correlación**"
      ]
    },
    {
      "cell_type": "code",
      "metadata": {
        "colab": {
          "base_uri": "https://localhost:8080/",
          "height": 1000
        },
        "id": "moDGonChetLB",
        "outputId": "c889045f-cafa-4113-bd8b-2441aad2614f"
      },
      "source": [
        "# Compute the correlation matrix\n",
        "corr = df.corr()\n",
        "\n",
        "# Generate a mask for the upper triangle\n",
        "mask = np.triu(np.ones_like(corr, dtype=bool))\n",
        "\n",
        "# Set up the matplotlib figure\n",
        "f, ax = plt.subplots(figsize=(24, 17))\n",
        "\n",
        "# Generate a custom diverging colormap\n",
        "cmap = sns.diverging_palette(230, 20, as_cmap=True)\n",
        "\n",
        "# Draw the heatmap with the mask and correct aspect ratio\n",
        "sns.heatmap(corr, mask=mask, cmap=cmap, vmax=.3, center=0,\n",
        "            square=True, linewidths=.5, cbar_kws={\"shrink\": .5}, annot=True)"
      ],
      "execution_count": null,
      "outputs": [
        {
          "output_type": "execute_result",
          "data": {
            "text/plain": [
              "<matplotlib.axes._subplots.AxesSubplot at 0x7fc8590e4cd0>"
            ]
          },
          "metadata": {
            "tags": []
          },
          "execution_count": 8
        },
        {
          "output_type": "display_data",
          "data": {
            "image/png": "[encoded data removed]",
            "text/plain": [
              "<Figure size 1728x1224 with 2 Axes>"
            ]
          },
          "metadata": {
            "tags": [],
            "needs_background": "light"
          }
        }
      ]
    },
    {
      "cell_type": "markdown",
      "metadata": {
        "id": "8I0i5vBVfXzf"
      },
      "source": [
        "# 2. Normalizar datos y aplicar filtros que hagan falta"
      ]
    },
    {
      "cell_type": "markdown",
      "metadata": {
        "id": "LCHEVr0ljaoA"
      },
      "source": [
        "**NaNs**"
      ]
    },
    {
      "cell_type": "code",
      "metadata": {
        "colab": {
          "base_uri": "https://localhost:8080/"
        },
        "id": "TN4G5hi9pIDf",
        "outputId": "5033b1b5-4b64-4fab-a8c7-1f2b37f293be"
      },
      "source": [
        "print(df.shape)\n",
        "df.isnull().sum()"
      ],
      "execution_count": null,
      "outputs": [
        {
          "output_type": "stream",
          "text": [
            "(25892, 25)\n"
          ],
          "name": "stdout"
        },
        {
          "output_type": "execute_result",
          "data": {
            "text/plain": [
              "spkid                 0\n",
              "full_name             0\n",
              "a                     0\n",
              "e                     0\n",
              "i                     0\n",
              "om                    0\n",
              "w                     0\n",
              "q                     0\n",
              "ad                    0\n",
              "per_y                 0\n",
              "data_arc            226\n",
              "condition_code        1\n",
              "n_obs_used            0\n",
              "n_del_obs_used    24967\n",
              "n_dop_obs_used    24967\n",
              "H                     7\n",
              "diameter          24641\n",
              "extent            25883\n",
              "albedo            24686\n",
              "rot_per           24074\n",
              "GM                25888\n",
              "BV                25854\n",
              "UB                25854\n",
              "IR                25891\n",
              "pha                   0\n",
              "dtype: int64"
            ]
          },
          "metadata": {
            "tags": []
          },
          "execution_count": 9
        }
      ]
    },
    {
      "cell_type": "markdown",
      "metadata": {
        "id": "1jWAnquKjm6O"
      },
      "source": [
        "**Elimino columnas por el nombre (e.g. id) o porque tienen alta correlación con otra**"
      ]
    },
    {
      "cell_type": "code",
      "metadata": {
        "id": "HhfMysrWi4vg"
      },
      "source": [
        "df = df[df['H'].notna()]"
      ],
      "execution_count": null,
      "outputs": []
    },
    {
      "cell_type": "code",
      "metadata": {
        "colab": {
          "base_uri": "https://localhost:8080/",
          "height": 204
        },
        "id": "ykYtnISFlFDq",
        "outputId": "074ee55f-f7a4-4352-d146-c296c0c28c19"
      },
      "source": [
        "# primero, columnas identificador fuera\n",
        "df = df.drop(columns=['full_name'])\n",
        "# columnas donde que son un alto % nulos 'n_del_obs_used', 'n_dop_obs_used',  'GM', 'BV', 'UB', 'IR'\n",
        "df = df.drop(columns=['n_del_obs_used', 'n_dop_obs_used',  'GM', 'BV', 'UB', 'IR', 'diameter', 'extent', 'albedo'])\n",
        "df.head()"
      ],
      "execution_count": null,
      "outputs": [
        {
          "output_type": "execute_result",
          "data": {
            "text/html": [
              "<div>\n",
              "<style scoped>\n",
              "    .dataframe tbody tr th:only-of-type {\n",
              "        vertical-align: middle;\n",
              "    }\n",
              "\n",
              "    .dataframe tbody tr th {\n",
              "        vertical-align: top;\n",
              "    }\n",
              "\n",
              "    .dataframe thead th {\n",
              "        text-align: right;\n",
              "    }\n",
              "</style>\n",
              "<table border=\"1\" class=\"dataframe\">\n",
              "  <thead>\n",
              "    <tr style=\"text-align: right;\">\n",
              "      <th></th>\n",
              "      <th>spkid</th>\n",
              "      <th>a</th>\n",
              "      <th>e</th>\n",
              "      <th>i</th>\n",
              "      <th>om</th>\n",
              "      <th>w</th>\n",
              "      <th>q</th>\n",
              "      <th>ad</th>\n",
              "      <th>per_y</th>\n",
              "      <th>data_arc</th>\n",
              "      <th>condition_code</th>\n",
              "      <th>n_obs_used</th>\n",
              "      <th>H</th>\n",
              "      <th>rot_per</th>\n",
              "      <th>pha</th>\n",
              "    </tr>\n",
              "  </thead>\n",
              "  <tbody>\n",
              "    <tr>\n",
              "      <th>0</th>\n",
              "      <td>2000433</td>\n",
              "      <td>1.458167</td>\n",
              "      <td>0.222994</td>\n",
              "      <td>10.830513</td>\n",
              "      <td>304.299134</td>\n",
              "      <td>178.868934</td>\n",
              "      <td>1.133005</td>\n",
              "      <td>1.783330</td>\n",
              "      <td>1.760837</td>\n",
              "      <td>46330.0</td>\n",
              "      <td>0.0</td>\n",
              "      <td>8767</td>\n",
              "      <td>10.42</td>\n",
              "      <td>5.270</td>\n",
              "      <td>0</td>\n",
              "    </tr>\n",
              "    <tr>\n",
              "      <th>1</th>\n",
              "      <td>2000719</td>\n",
              "      <td>2.638378</td>\n",
              "      <td>0.546721</td>\n",
              "      <td>11.570400</td>\n",
              "      <td>183.858330</td>\n",
              "      <td>156.191216</td>\n",
              "      <td>1.195922</td>\n",
              "      <td>4.080833</td>\n",
              "      <td>4.285620</td>\n",
              "      <td>40008.0</td>\n",
              "      <td>0.0</td>\n",
              "      <td>1890</td>\n",
              "      <td>15.51</td>\n",
              "      <td>5.801</td>\n",
              "      <td>0</td>\n",
              "    </tr>\n",
              "    <tr>\n",
              "      <th>2</th>\n",
              "      <td>2000887</td>\n",
              "      <td>2.473534</td>\n",
              "      <td>0.570422</td>\n",
              "      <td>9.393849</td>\n",
              "      <td>110.433729</td>\n",
              "      <td>350.512509</td>\n",
              "      <td>1.062575</td>\n",
              "      <td>3.884493</td>\n",
              "      <td>3.890317</td>\n",
              "      <td>37722.0</td>\n",
              "      <td>0.0</td>\n",
              "      <td>2510</td>\n",
              "      <td>13.84</td>\n",
              "      <td>28.410</td>\n",
              "      <td>0</td>\n",
              "    </tr>\n",
              "    <tr>\n",
              "      <th>3</th>\n",
              "      <td>2001036</td>\n",
              "      <td>2.665194</td>\n",
              "      <td>0.533095</td>\n",
              "      <td>26.676143</td>\n",
              "      <td>215.544210</td>\n",
              "      <td>132.378538</td>\n",
              "      <td>1.244392</td>\n",
              "      <td>4.085995</td>\n",
              "      <td>4.351123</td>\n",
              "      <td>35257.0</td>\n",
              "      <td>0.0</td>\n",
              "      <td>7044</td>\n",
              "      <td>9.25</td>\n",
              "      <td>10.297</td>\n",
              "      <td>0</td>\n",
              "    </tr>\n",
              "    <tr>\n",
              "      <th>4</th>\n",
              "      <td>2001221</td>\n",
              "      <td>1.919166</td>\n",
              "      <td>0.435488</td>\n",
              "      <td>11.880444</td>\n",
              "      <td>171.316487</td>\n",
              "      <td>26.677583</td>\n",
              "      <td>1.083392</td>\n",
              "      <td>2.754939</td>\n",
              "      <td>2.658746</td>\n",
              "      <td>32328.0</td>\n",
              "      <td>0.0</td>\n",
              "      <td>552</td>\n",
              "      <td>17.39</td>\n",
              "      <td>NaN</td>\n",
              "      <td>0</td>\n",
              "    </tr>\n",
              "  </tbody>\n",
              "</table>\n",
              "</div>"
            ],
            "text/plain": [
              "     spkid         a         e          i  ...  n_obs_used      H  rot_per  pha\n",
              "0  2000433  1.458167  0.222994  10.830513  ...        8767  10.42    5.270    0\n",
              "1  2000719  2.638378  0.546721  11.570400  ...        1890  15.51    5.801    0\n",
              "2  2000887  2.473534  0.570422   9.393849  ...        2510  13.84   28.410    0\n",
              "3  2001036  2.665194  0.533095  26.676143  ...        7044   9.25   10.297    0\n",
              "4  2001221  1.919166  0.435488  11.880444  ...         552  17.39      NaN    0\n",
              "\n",
              "[5 rows x 15 columns]"
            ]
          },
          "metadata": {
            "tags": []
          },
          "execution_count": 11
        }
      ]
    },
    {
      "cell_type": "code",
      "metadata": {
        "id": "9sCrBP_8tZmz"
      },
      "source": [
        "df = df.fillna(0)"
      ],
      "execution_count": null,
      "outputs": []
    },
    {
      "cell_type": "markdown",
      "metadata": {
        "id": "imqskWwbj2Lt"
      },
      "source": [
        "**Normalización**"
      ]
    },
    {
      "cell_type": "code",
      "metadata": {
        "colab": {
          "base_uri": "https://localhost:8080/",
          "height": 204
        },
        "id": "SJWZiwFXq8b9",
        "outputId": "6860b575-c3e5-46ca-d613-bcab64a0c140"
      },
      "source": [
        "min_max_scaler = preprocessing.MinMaxScaler()\n",
        "x_scaled = min_max_scaler.fit_transform(df.iloc[:, 1:-1])\n",
        "df_normalized = pd.DataFrame(x_scaled)\n",
        "df_normalized.columns = df.columns[1:-1]\n",
        "df_normalized['spkid'] = df.spkid.values\n",
        "df_normalized['pha'] = df.pha.values\n",
        "df_normalized['spkid'] = df_normalized['spkid'].astype(int)\n",
        "df_normalized['pha'] = df_normalized['pha'].astype(int)\n",
        "df_normalized.head()"
      ],
      "execution_count": null,
      "outputs": [
        {
          "output_type": "execute_result",
          "data": {
            "text/html": [
              "<div>\n",
              "<style scoped>\n",
              "    .dataframe tbody tr th:only-of-type {\n",
              "        vertical-align: middle;\n",
              "    }\n",
              "\n",
              "    .dataframe tbody tr th {\n",
              "        vertical-align: top;\n",
              "    }\n",
              "\n",
              "    .dataframe thead th {\n",
              "        text-align: right;\n",
              "    }\n",
              "</style>\n",
              "<table border=\"1\" class=\"dataframe\">\n",
              "  <thead>\n",
              "    <tr style=\"text-align: right;\">\n",
              "      <th></th>\n",
              "      <th>a</th>\n",
              "      <th>e</th>\n",
              "      <th>i</th>\n",
              "      <th>om</th>\n",
              "      <th>w</th>\n",
              "      <th>q</th>\n",
              "      <th>ad</th>\n",
              "      <th>per_y</th>\n",
              "      <th>data_arc</th>\n",
              "      <th>condition_code</th>\n",
              "      <th>n_obs_used</th>\n",
              "      <th>H</th>\n",
              "      <th>rot_per</th>\n",
              "      <th>spkid</th>\n",
              "      <th>pha</th>\n",
              "    </tr>\n",
              "  </thead>\n",
              "  <tbody>\n",
              "    <tr>\n",
              "      <th>0</th>\n",
              "      <td>0.002806</td>\n",
              "      <td>0.221633</td>\n",
              "      <td>0.065352</td>\n",
              "      <td>0.845313</td>\n",
              "      <td>0.496898</td>\n",
              "      <td>0.864203</td>\n",
              "      <td>0.001757</td>\n",
              "      <td>0.000233</td>\n",
              "      <td>1.000000</td>\n",
              "      <td>0.0</td>\n",
              "      <td>1.000000</td>\n",
              "      <td>0.048852</td>\n",
              "      <td>0.002803</td>\n",
              "      <td>2000433</td>\n",
              "      <td>0</td>\n",
              "    </tr>\n",
              "    <tr>\n",
              "      <th>1</th>\n",
              "      <td>0.006473</td>\n",
              "      <td>0.547544</td>\n",
              "      <td>0.069822</td>\n",
              "      <td>0.510738</td>\n",
              "      <td>0.433899</td>\n",
              "      <td>0.915374</td>\n",
              "      <td>0.005332</td>\n",
              "      <td>0.000669</td>\n",
              "      <td>0.863544</td>\n",
              "      <td>0.0</td>\n",
              "      <td>0.215313</td>\n",
              "      <td>0.261378</td>\n",
              "      <td>0.003086</td>\n",
              "      <td>2000719</td>\n",
              "      <td>0</td>\n",
              "    </tr>\n",
              "    <tr>\n",
              "      <th>2</th>\n",
              "      <td>0.005961</td>\n",
              "      <td>0.571406</td>\n",
              "      <td>0.056672</td>\n",
              "      <td>0.306770</td>\n",
              "      <td>0.973733</td>\n",
              "      <td>0.806922</td>\n",
              "      <td>0.005026</td>\n",
              "      <td>0.000601</td>\n",
              "      <td>0.814202</td>\n",
              "      <td>0.0</td>\n",
              "      <td>0.286057</td>\n",
              "      <td>0.191649</td>\n",
              "      <td>0.015112</td>\n",
              "      <td>2000887</td>\n",
              "      <td>0</td>\n",
              "    </tr>\n",
              "    <tr>\n",
              "      <th>3</th>\n",
              "      <td>0.006557</td>\n",
              "      <td>0.533826</td>\n",
              "      <td>0.161082</td>\n",
              "      <td>0.598759</td>\n",
              "      <td>0.367746</td>\n",
              "      <td>0.954796</td>\n",
              "      <td>0.005340</td>\n",
              "      <td>0.000680</td>\n",
              "      <td>0.760997</td>\n",
              "      <td>0.0</td>\n",
              "      <td>0.803400</td>\n",
              "      <td>0.000000</td>\n",
              "      <td>0.005477</td>\n",
              "      <td>2001036</td>\n",
              "      <td>0</td>\n",
              "    </tr>\n",
              "    <tr>\n",
              "      <th>4</th>\n",
              "      <td>0.004238</td>\n",
              "      <td>0.435561</td>\n",
              "      <td>0.071695</td>\n",
              "      <td>0.475898</td>\n",
              "      <td>0.074103</td>\n",
              "      <td>0.823853</td>\n",
              "      <td>0.003269</td>\n",
              "      <td>0.000388</td>\n",
              "      <td>0.697777</td>\n",
              "      <td>0.0</td>\n",
              "      <td>0.062643</td>\n",
              "      <td>0.339875</td>\n",
              "      <td>0.000000</td>\n",
              "      <td>2001221</td>\n",
              "      <td>0</td>\n",
              "    </tr>\n",
              "  </tbody>\n",
              "</table>\n",
              "</div>"
            ],
            "text/plain": [
              "          a         e         i        om  ...         H   rot_per    spkid  pha\n",
              "0  0.002806  0.221633  0.065352  0.845313  ...  0.048852  0.002803  2000433    0\n",
              "1  0.006473  0.547544  0.069822  0.510738  ...  0.261378  0.003086  2000719    0\n",
              "2  0.005961  0.571406  0.056672  0.306770  ...  0.191649  0.015112  2000887    0\n",
              "3  0.006557  0.533826  0.161082  0.598759  ...  0.000000  0.005477  2001036    0\n",
              "4  0.004238  0.435561  0.071695  0.475898  ...  0.339875  0.000000  2001221    0\n",
              "\n",
              "[5 rows x 15 columns]"
            ]
          },
          "metadata": {
            "tags": []
          },
          "execution_count": 13
        }
      ]
    },
    {
      "cell_type": "markdown",
      "metadata": {
        "id": "MEtyAZlyrsV3"
      },
      "source": [
        "# 3. Dividir en train, validacion y testeo"
      ]
    },
    {
      "cell_type": "code",
      "metadata": {
        "colab": {
          "base_uri": "https://localhost:8080/"
        },
        "id": "fLNCJ65krsv9",
        "outputId": "c075c334-6d8a-4bcd-da41-f504c95050ba"
      },
      "source": [
        "from sklearn.model_selection import train_test_split, StratifiedKFold, GridSearchCV\n",
        "x_train_original, x_test, y_train_original, y_test = train_test_split(df_normalized.iloc[:, :-1], df_normalized.pha,\n",
        "                                                    test_size=0.15,\n",
        "                                                    random_state=0,\n",
        "                                                    stratify=df_normalized.pha)\n",
        "\n",
        "print('La filas de train son ' + str(x_train_original.shape[0]))\n",
        "print('La filas de testeo son ' + str(x_test.shape[0]))"
      ],
      "execution_count": null,
      "outputs": [
        {
          "output_type": "stream",
          "text": [
            "La filas de train son 22002\n",
            "La filas de testeo son 3883\n"
          ],
          "name": "stdout"
        }
      ]
    },
    {
      "cell_type": "markdown",
      "metadata": {
        "id": "WI9nkxXcxK5w"
      },
      "source": [
        "# 4. Probar Algoritmos, implementar grid search para F1-Score"
      ]
    },
    {
      "cell_type": "code",
      "metadata": {
        "id": "0xdWXDjJxR0Z"
      },
      "source": [
        "from sklearn.ensemble import RandomForestClassifier\n",
        "from sklearn.datasets import make_regression\n",
        "from sklearn.feature_selection import SelectFromModel\n",
        "from sklearn.linear_model import LinearRegression, LogisticRegression\n",
        "\n",
        "# 4.1 regresion logistica (opcional)\n",
        "# 4.2 Random Forest\n",
        "# 4.3 Lightgbm\n",
        "# 4.4 xgboost "
      ],
      "execution_count": null,
      "outputs": []
    },
    {
      "cell_type": "markdown",
      "metadata": {
        "id": "iQqUfAPexgcC"
      },
      "source": [
        "**regresión logistica**"
      ]
    },
    {
      "cell_type": "code",
      "metadata": {
        "colab": {
          "base_uri": "https://localhost:8080/"
        },
        "id": "2VZrWr-VxiZL",
        "outputId": "17a49919-1983-464c-e9a6-bcb992f7d698"
      },
      "source": [
        "kfolds = StratifiedKFold(6)\n",
        "\n",
        "# Logisticregresion\n",
        "lrc =LogisticRegression(max_iter= 10000, random_state=42)\n",
        "param_grid = { \n",
        "    'penalty': ['l1', 'l2', 'elastic', 'none'],\n",
        "    'solver': ['newton-cg', 'lbfgs', 'liblinear', 'sag', 'saga'],\n",
        "}\n",
        "\n",
        "CV_lrc = GridSearchCV(estimator=lrc, param_grid=param_grid, cv= kfolds.split(x_train_original,y_train_original), verbose = 3, n_jobs = -1, scoring = 'f1_macro')\n",
        "CV_lrc.fit(x_train_original,y_train_original)\n",
        "print(CV_lrc.best_params_)"
      ],
      "execution_count": null,
      "outputs": [
        {
          "output_type": "stream",
          "text": [
            "Fitting 6 folds for each of 20 candidates, totalling 120 fits\n"
          ],
          "name": "stdout"
        },
        {
          "output_type": "stream",
          "text": [
            "[Parallel(n_jobs=-1)]: Using backend LokyBackend with 2 concurrent workers.\n",
            "[Parallel(n_jobs=-1)]: Done  28 tasks      | elapsed:    3.1s\n",
            "[Parallel(n_jobs=-1)]: Done 120 out of 120 | elapsed:   30.4s finished\n",
            "/usr/local/lib/python3.7/dist-packages/scipy/optimize/linesearch.py:466: LineSearchWarning: The line search algorithm did not converge\n",
            "  warn('The line search algorithm did not converge', LineSearchWarning)\n",
            "/usr/local/lib/python3.7/dist-packages/scipy/optimize/linesearch.py:314: LineSearchWarning: The line search algorithm did not converge\n",
            "  warn('The line search algorithm did not converge', LineSearchWarning)\n",
            "/usr/local/lib/python3.7/dist-packages/scipy/optimize/linesearch.py:466: LineSearchWarning: The line search algorithm did not converge\n",
            "  warn('The line search algorithm did not converge', LineSearchWarning)\n",
            "/usr/local/lib/python3.7/dist-packages/scipy/optimize/linesearch.py:314: LineSearchWarning: The line search algorithm did not converge\n",
            "  warn('The line search algorithm did not converge', LineSearchWarning)\n",
            "/usr/local/lib/python3.7/dist-packages/scipy/optimize/linesearch.py:466: LineSearchWarning: The line search algorithm did not converge\n",
            "  warn('The line search algorithm did not converge', LineSearchWarning)\n",
            "/usr/local/lib/python3.7/dist-packages/scipy/optimize/linesearch.py:314: LineSearchWarning: The line search algorithm did not converge\n",
            "  warn('The line search algorithm did not converge', LineSearchWarning)\n",
            "/usr/local/lib/python3.7/dist-packages/scipy/optimize/linesearch.py:466: LineSearchWarning: The line search algorithm did not converge\n",
            "  warn('The line search algorithm did not converge', LineSearchWarning)\n",
            "/usr/local/lib/python3.7/dist-packages/scipy/optimize/linesearch.py:314: LineSearchWarning: The line search algorithm did not converge\n",
            "  warn('The line search algorithm did not converge', LineSearchWarning)\n",
            "/usr/local/lib/python3.7/dist-packages/scipy/optimize/linesearch.py:466: LineSearchWarning: The line search algorithm did not converge\n",
            "  warn('The line search algorithm did not converge', LineSearchWarning)\n",
            "/usr/local/lib/python3.7/dist-packages/scipy/optimize/linesearch.py:314: LineSearchWarning: The line search algorithm did not converge\n",
            "  warn('The line search algorithm did not converge', LineSearchWarning)\n",
            "/usr/local/lib/python3.7/dist-packages/scipy/optimize/linesearch.py:466: LineSearchWarning: The line search algorithm did not converge\n",
            "  warn('The line search algorithm did not converge', LineSearchWarning)\n",
            "/usr/local/lib/python3.7/dist-packages/scipy/optimize/linesearch.py:314: LineSearchWarning: The line search algorithm did not converge\n",
            "  warn('The line search algorithm did not converge', LineSearchWarning)\n",
            "/usr/local/lib/python3.7/dist-packages/scipy/optimize/linesearch.py:466: LineSearchWarning: The line search algorithm did not converge\n",
            "  warn('The line search algorithm did not converge', LineSearchWarning)\n",
            "/usr/local/lib/python3.7/dist-packages/scipy/optimize/linesearch.py:314: LineSearchWarning: The line search algorithm did not converge\n",
            "  warn('The line search algorithm did not converge', LineSearchWarning)\n",
            "/usr/local/lib/python3.7/dist-packages/scipy/optimize/linesearch.py:466: LineSearchWarning: The line search algorithm did not converge\n",
            "  warn('The line search algorithm did not converge', LineSearchWarning)\n",
            "/usr/local/lib/python3.7/dist-packages/scipy/optimize/linesearch.py:314: LineSearchWarning: The line search algorithm did not converge\n",
            "  warn('The line search algorithm did not converge', LineSearchWarning)\n",
            "/usr/local/lib/python3.7/dist-packages/scipy/optimize/linesearch.py:466: LineSearchWarning: The line search algorithm did not converge\n",
            "  warn('The line search algorithm did not converge', LineSearchWarning)\n",
            "/usr/local/lib/python3.7/dist-packages/scipy/optimize/linesearch.py:314: LineSearchWarning: The line search algorithm did not converge\n",
            "  warn('The line search algorithm did not converge', LineSearchWarning)\n",
            "/usr/local/lib/python3.7/dist-packages/scipy/optimize/linesearch.py:466: LineSearchWarning: The line search algorithm did not converge\n",
            "  warn('The line search algorithm did not converge', LineSearchWarning)\n",
            "/usr/local/lib/python3.7/dist-packages/scipy/optimize/linesearch.py:314: LineSearchWarning: The line search algorithm did not converge\n",
            "  warn('The line search algorithm did not converge', LineSearchWarning)\n",
            "/usr/local/lib/python3.7/dist-packages/scipy/optimize/linesearch.py:466: LineSearchWarning: The line search algorithm did not converge\n",
            "  warn('The line search algorithm did not converge', LineSearchWarning)\n",
            "/usr/local/lib/python3.7/dist-packages/scipy/optimize/linesearch.py:314: LineSearchWarning: The line search algorithm did not converge\n",
            "  warn('The line search algorithm did not converge', LineSearchWarning)\n",
            "/usr/local/lib/python3.7/dist-packages/scipy/optimize/linesearch.py:466: LineSearchWarning: The line search algorithm did not converge\n",
            "  warn('The line search algorithm did not converge', LineSearchWarning)\n",
            "/usr/local/lib/python3.7/dist-packages/scipy/optimize/linesearch.py:314: LineSearchWarning: The line search algorithm did not converge\n",
            "  warn('The line search algorithm did not converge', LineSearchWarning)\n",
            "/usr/local/lib/python3.7/dist-packages/scipy/optimize/linesearch.py:466: LineSearchWarning: The line search algorithm did not converge\n",
            "  warn('The line search algorithm did not converge', LineSearchWarning)\n",
            "/usr/local/lib/python3.7/dist-packages/scipy/optimize/linesearch.py:314: LineSearchWarning: The line search algorithm did not converge\n",
            "  warn('The line search algorithm did not converge', LineSearchWarning)\n",
            "/usr/local/lib/python3.7/dist-packages/scipy/optimize/linesearch.py:466: LineSearchWarning: The line search algorithm did not converge\n",
            "  warn('The line search algorithm did not converge', LineSearchWarning)\n",
            "/usr/local/lib/python3.7/dist-packages/scipy/optimize/linesearch.py:314: LineSearchWarning: The line search algorithm did not converge\n",
            "  warn('The line search algorithm did not converge', LineSearchWarning)\n",
            "/usr/local/lib/python3.7/dist-packages/scipy/optimize/linesearch.py:466: LineSearchWarning: The line search algorithm did not converge\n",
            "  warn('The line search algorithm did not converge', LineSearchWarning)\n",
            "/usr/local/lib/python3.7/dist-packages/scipy/optimize/linesearch.py:314: LineSearchWarning: The line search algorithm did not converge\n",
            "  warn('The line search algorithm did not converge', LineSearchWarning)\n",
            "/usr/local/lib/python3.7/dist-packages/scipy/optimize/linesearch.py:466: LineSearchWarning: The line search algorithm did not converge\n",
            "  warn('The line search algorithm did not converge', LineSearchWarning)\n",
            "/usr/local/lib/python3.7/dist-packages/scipy/optimize/linesearch.py:314: LineSearchWarning: The line search algorithm did not converge\n",
            "  warn('The line search algorithm did not converge', LineSearchWarning)\n",
            "/usr/local/lib/python3.7/dist-packages/scipy/optimize/linesearch.py:466: LineSearchWarning: The line search algorithm did not converge\n",
            "  warn('The line search algorithm did not converge', LineSearchWarning)\n",
            "/usr/local/lib/python3.7/dist-packages/scipy/optimize/linesearch.py:314: LineSearchWarning: The line search algorithm did not converge\n",
            "  warn('The line search algorithm did not converge', LineSearchWarning)\n",
            "/usr/local/lib/python3.7/dist-packages/scipy/optimize/linesearch.py:466: LineSearchWarning: The line search algorithm did not converge\n",
            "  warn('The line search algorithm did not converge', LineSearchWarning)\n",
            "/usr/local/lib/python3.7/dist-packages/scipy/optimize/linesearch.py:314: LineSearchWarning: The line search algorithm did not converge\n",
            "  warn('The line search algorithm did not converge', LineSearchWarning)\n",
            "/usr/local/lib/python3.7/dist-packages/scipy/optimize/linesearch.py:466: LineSearchWarning: The line search algorithm did not converge\n",
            "  warn('The line search algorithm did not converge', LineSearchWarning)\n",
            "/usr/local/lib/python3.7/dist-packages/scipy/optimize/linesearch.py:314: LineSearchWarning: The line search algorithm did not converge\n",
            "  warn('The line search algorithm did not converge', LineSearchWarning)\n",
            "/usr/local/lib/python3.7/dist-packages/scipy/optimize/linesearch.py:466: LineSearchWarning: The line search algorithm did not converge\n",
            "  warn('The line search algorithm did not converge', LineSearchWarning)\n",
            "/usr/local/lib/python3.7/dist-packages/scipy/optimize/linesearch.py:314: LineSearchWarning: The line search algorithm did not converge\n",
            "  warn('The line search algorithm did not converge', LineSearchWarning)\n",
            "/usr/local/lib/python3.7/dist-packages/scipy/optimize/linesearch.py:466: LineSearchWarning: The line search algorithm did not converge\n",
            "  warn('The line search algorithm did not converge', LineSearchWarning)\n",
            "/usr/local/lib/python3.7/dist-packages/scipy/optimize/linesearch.py:314: LineSearchWarning: The line search algorithm did not converge\n",
            "  warn('The line search algorithm did not converge', LineSearchWarning)\n",
            "/usr/local/lib/python3.7/dist-packages/scipy/optimize/linesearch.py:466: LineSearchWarning: The line search algorithm did not converge\n",
            "  warn('The line search algorithm did not converge', LineSearchWarning)\n",
            "/usr/local/lib/python3.7/dist-packages/scipy/optimize/linesearch.py:314: LineSearchWarning: The line search algorithm did not converge\n",
            "  warn('The line search algorithm did not converge', LineSearchWarning)\n",
            "/usr/local/lib/python3.7/dist-packages/scipy/optimize/linesearch.py:466: LineSearchWarning: The line search algorithm did not converge\n",
            "  warn('The line search algorithm did not converge', LineSearchWarning)\n",
            "/usr/local/lib/python3.7/dist-packages/scipy/optimize/linesearch.py:314: LineSearchWarning: The line search algorithm did not converge\n",
            "  warn('The line search algorithm did not converge', LineSearchWarning)\n",
            "/usr/local/lib/python3.7/dist-packages/scipy/optimize/linesearch.py:466: LineSearchWarning: The line search algorithm did not converge\n",
            "  warn('The line search algorithm did not converge', LineSearchWarning)\n",
            "/usr/local/lib/python3.7/dist-packages/scipy/optimize/linesearch.py:314: LineSearchWarning: The line search algorithm did not converge\n",
            "  warn('The line search algorithm did not converge', LineSearchWarning)\n",
            "/usr/local/lib/python3.7/dist-packages/scipy/optimize/linesearch.py:466: LineSearchWarning: The line search algorithm did not converge\n",
            "  warn('The line search algorithm did not converge', LineSearchWarning)\n",
            "/usr/local/lib/python3.7/dist-packages/scipy/optimize/linesearch.py:314: LineSearchWarning: The line search algorithm did not converge\n",
            "  warn('The line search algorithm did not converge', LineSearchWarning)\n",
            "/usr/local/lib/python3.7/dist-packages/scipy/optimize/linesearch.py:466: LineSearchWarning: The line search algorithm did not converge\n",
            "  warn('The line search algorithm did not converge', LineSearchWarning)\n",
            "/usr/local/lib/python3.7/dist-packages/scipy/optimize/linesearch.py:314: LineSearchWarning: The line search algorithm did not converge\n",
            "  warn('The line search algorithm did not converge', LineSearchWarning)\n",
            "/usr/local/lib/python3.7/dist-packages/scipy/optimize/linesearch.py:466: LineSearchWarning: The line search algorithm did not converge\n",
            "  warn('The line search algorithm did not converge', LineSearchWarning)\n",
            "/usr/local/lib/python3.7/dist-packages/scipy/optimize/linesearch.py:314: LineSearchWarning: The line search algorithm did not converge\n",
            "  warn('The line search algorithm did not converge', LineSearchWarning)\n",
            "/usr/local/lib/python3.7/dist-packages/scipy/optimize/linesearch.py:466: LineSearchWarning: The line search algorithm did not converge\n",
            "  warn('The line search algorithm did not converge', LineSearchWarning)\n",
            "/usr/local/lib/python3.7/dist-packages/scipy/optimize/linesearch.py:314: LineSearchWarning: The line search algorithm did not converge\n",
            "  warn('The line search algorithm did not converge', LineSearchWarning)\n",
            "/usr/local/lib/python3.7/dist-packages/scipy/optimize/linesearch.py:466: LineSearchWarning: The line search algorithm did not converge\n",
            "  warn('The line search algorithm did not converge', LineSearchWarning)\n",
            "/usr/local/lib/python3.7/dist-packages/scipy/optimize/linesearch.py:314: LineSearchWarning: The line search algorithm did not converge\n",
            "  warn('The line search algorithm did not converge', LineSearchWarning)\n",
            "/usr/local/lib/python3.7/dist-packages/scipy/optimize/linesearch.py:466: LineSearchWarning: The line search algorithm did not converge\n",
            "  warn('The line search algorithm did not converge', LineSearchWarning)\n",
            "/usr/local/lib/python3.7/dist-packages/scipy/optimize/linesearch.py:314: LineSearchWarning: The line search algorithm did not converge\n",
            "  warn('The line search algorithm did not converge', LineSearchWarning)\n",
            "/usr/local/lib/python3.7/dist-packages/scipy/optimize/linesearch.py:466: LineSearchWarning: The line search algorithm did not converge\n",
            "  warn('The line search algorithm did not converge', LineSearchWarning)\n",
            "/usr/local/lib/python3.7/dist-packages/scipy/optimize/linesearch.py:314: LineSearchWarning: The line search algorithm did not converge\n",
            "  warn('The line search algorithm did not converge', LineSearchWarning)\n",
            "/usr/local/lib/python3.7/dist-packages/scipy/optimize/linesearch.py:466: LineSearchWarning: The line search algorithm did not converge\n",
            "  warn('The line search algorithm did not converge', LineSearchWarning)\n",
            "/usr/local/lib/python3.7/dist-packages/scipy/optimize/linesearch.py:314: LineSearchWarning: The line search algorithm did not converge\n",
            "  warn('The line search algorithm did not converge', LineSearchWarning)\n"
          ],
          "name": "stderr"
        },
        {
          "output_type": "stream",
          "text": [
            "{'penalty': 'none', 'solver': 'newton-cg'}\n"
          ],
          "name": "stdout"
        },
        {
          "output_type": "stream",
          "text": [
            "/usr/local/lib/python3.7/dist-packages/scipy/optimize/linesearch.py:426: LineSearchWarning: Rounding errors prevent the line search from converging\n",
            "  warn(msg, LineSearchWarning)\n",
            "/usr/local/lib/python3.7/dist-packages/scipy/optimize/linesearch.py:314: LineSearchWarning: The line search algorithm did not converge\n",
            "  warn('The line search algorithm did not converge', LineSearchWarning)\n",
            "/usr/local/lib/python3.7/dist-packages/sklearn/utils/optimize.py:204: UserWarning: Line Search failed\n",
            "  warnings.warn('Line Search failed')\n"
          ],
          "name": "stderr"
        }
      ]
    },
    {
      "cell_type": "code",
      "metadata": {
        "colab": {
          "base_uri": "https://localhost:8080/"
        },
        "id": "S2INPHk6yShh",
        "outputId": "cd86fecc-3891-4663-d3fe-0fcd33812752"
      },
      "source": [
        "print(CV_lrc.best_params_)\n",
        "print('Score: ' + str(CV_lrc.best_score_))\n",
        "\n",
        "# Calculo f1-score\n",
        "from sklearn.metrics import f1_score\n",
        "\n",
        "y_pred = CV_lrc.best_estimator_.predict(x_test)\n",
        "y_real = y_test\n",
        "\n",
        "print('f1-score es ' + str(f1_score(y_real, y_pred, average='macro')))"
      ],
      "execution_count": null,
      "outputs": [
        {
          "output_type": "stream",
          "text": [
            "{'penalty': 'none', 'solver': 'newton-cg'}\n",
            "Score: 0.5440532864618971\n",
            "f1-score es 0.5545305640658365\n"
          ],
          "name": "stdout"
        }
      ]
    },
    {
      "cell_type": "markdown",
      "metadata": {
        "id": "U2izs1uayWQx"
      },
      "source": [
        "**random forest**"
      ]
    },
    {
      "cell_type": "code",
      "metadata": {
        "colab": {
          "base_uri": "https://localhost:8080/"
        },
        "id": "VvqKz9wWylOz",
        "outputId": "ebd90a4b-666f-4bed-96f2-6246c0a94115"
      },
      "source": [
        "# RandomForest\n",
        "rfc=RandomForestClassifier(random_state=42)\n",
        "param_grid = { \n",
        "    'n_estimators': [150, 300],\n",
        "    'max_features': ['auto'],\n",
        "    'max_depth': [6,11, 14, 16],\n",
        "    'criterion': ['gini', 'entropy']\n",
        "}\n",
        "\n",
        "CV_rfc = GridSearchCV(estimator=rfc, param_grid=param_grid, cv= kfolds.split(x_train_original,y_train_original), verbose = 3, n_jobs = -1, scoring = 'f1_macro')\n",
        "CV_rfc.fit(x_train_original,y_train_original)\n",
        "print(CV_rfc.best_params_)"
      ],
      "execution_count": null,
      "outputs": [
        {
          "output_type": "stream",
          "text": [
            "[Parallel(n_jobs=-1)]: Using backend LokyBackend with 2 concurrent workers.\n"
          ],
          "name": "stderr"
        },
        {
          "output_type": "stream",
          "text": [
            "Fitting 6 folds for each of 16 candidates, totalling 96 fits\n"
          ],
          "name": "stdout"
        },
        {
          "output_type": "stream",
          "text": [
            "[Parallel(n_jobs=-1)]: Done  28 tasks      | elapsed:  1.9min\n",
            "[Parallel(n_jobs=-1)]: Done  96 out of  96 | elapsed:  8.9min finished\n"
          ],
          "name": "stderr"
        },
        {
          "output_type": "stream",
          "text": [
            "{'criterion': 'gini', 'max_depth': 16, 'max_features': 'auto', 'n_estimators': 150}\n"
          ],
          "name": "stdout"
        }
      ]
    },
    {
      "cell_type": "code",
      "metadata": {
        "colab": {
          "base_uri": "https://localhost:8080/"
        },
        "id": "EhQ-loLVyphA",
        "outputId": "55b7aede-d7ba-4ce2-a9e5-64db06381ece"
      },
      "source": [
        "print(CV_rfc.best_params_)\n",
        "print('Score: ' + str(CV_rfc.best_score_))\n",
        "\n",
        "# Calculo f1-score\n",
        "from sklearn.metrics import f1_score\n",
        "\n",
        "y_pred = CV_rfc.best_estimator_.predict(x_test)\n",
        "y_real = y_test\n",
        "\n",
        "print('f1-score es ' + str(f1_score(y_real, y_pred, average='macro')))"
      ],
      "execution_count": null,
      "outputs": [
        {
          "output_type": "stream",
          "text": [
            "{'criterion': 'gini', 'max_depth': 16, 'max_features': 'auto', 'n_estimators': 150}\n",
            "Score: 0.7722440890775567\n",
            "f1-score es 0.7316581690857714\n"
          ],
          "name": "stdout"
        }
      ]
    },
    {
      "cell_type": "markdown",
      "metadata": {
        "id": "RFN4zUjwyYtX"
      },
      "source": [
        "**lightgbm**"
      ]
    },
    {
      "cell_type": "code",
      "metadata": {
        "colab": {
          "base_uri": "https://localhost:8080/"
        },
        "id": "7QNr-HxQzmEg",
        "outputId": "981b6b9e-baa1-49c0-f755-e117a579bdf8"
      },
      "source": [
        "import lightgbm as lgb\n",
        "\n",
        "param_grid = {\n",
        "    'max_depth' : [6, 8, 11, 14, 16],\n",
        "    'num_iterations': [200, 350, 500],\n",
        "    'learning_rate': [0.1, 0.15, 0.2]\n",
        "    }\n",
        "\n",
        "lgb_estimator = lgb.LGBMClassifier(boosting_type='gbdt',  objective='binary', metric='precision')\n",
        "\n",
        "CV_lgm = GridSearchCV(estimator=lgb_estimator, param_grid=param_grid, cv= kfolds.split(x_train_original,y_train_original), verbose = 3, n_jobs = -1, scoring = 'f1_macro')\n",
        "lgb_model = CV_lgm.fit(X=x_train_original, y=y_train_original)\n",
        "\n",
        "print(lgb_model.best_params_, lgb_model.best_score_)"
      ],
      "execution_count": null,
      "outputs": [
        {
          "output_type": "stream",
          "text": [
            "Fitting 6 folds for each of 72 candidates, totalling 432 fits\n"
          ],
          "name": "stdout"
        },
        {
          "output_type": "stream",
          "text": [
            "[Parallel(n_jobs=-1)]: Using backend LokyBackend with 2 concurrent workers.\n",
            "[Parallel(n_jobs=-1)]: Done  28 tasks      | elapsed:   40.2s\n",
            "[Parallel(n_jobs=-1)]: Done 124 tasks      | elapsed:  3.4min\n",
            "[Parallel(n_jobs=-1)]: Done 284 tasks      | elapsed:  7.8min\n",
            "[Parallel(n_jobs=-1)]: Done 432 out of 432 | elapsed: 12.0min finished\n",
            "/usr/local/lib/python3.7/dist-packages/lightgbm/engine.py:118: UserWarning: Found `num_iterations` in params. Will use it instead of argument\n",
            "  warnings.warn(\"Found `{}` in params. Will use it instead of argument\".format(alias))\n"
          ],
          "name": "stderr"
        },
        {
          "output_type": "stream",
          "text": [
            "{'learning_rate': 0.15, 'max_depth': 16, 'num_iterations': 500} 0.8935214243049739\n"
          ],
          "name": "stdout"
        }
      ]
    },
    {
      "cell_type": "code",
      "metadata": {
        "colab": {
          "base_uri": "https://localhost:8080/"
        },
        "id": "ga85SQIJzngi",
        "outputId": "77cdbf3c-df04-40ff-e7da-3951854ec019"
      },
      "source": [
        "print(CV_lgm.best_params_)\n",
        "print('Score: ' + str(CV_lgm.best_score_))\n",
        "\n",
        "# Calculo f1-score\n",
        "from sklearn.metrics import f1_score\n",
        "\n",
        "y_pred = CV_lgm.best_estimator_.predict(x_test)\n",
        "y_real = y_test\n",
        "\n",
        "print('f1-score es ' + str(f1_score(y_real, y_pred, average='macro')))"
      ],
      "execution_count": null,
      "outputs": [
        {
          "output_type": "stream",
          "text": [
            "{'learning_rate': 0.15, 'max_depth': 16, 'num_iterations': 500}\n",
            "Score: 0.8935214243049739\n",
            "f1-score es 0.8870164153627627\n"
          ],
          "name": "stdout"
        }
      ]
    },
    {
      "cell_type": "markdown",
      "metadata": {
        "id": "iWXox8cgyaiY"
      },
      "source": [
        "**xgboost**"
      ]
    },
    {
      "cell_type": "code",
      "metadata": {
        "colab": {
          "base_uri": "https://localhost:8080/"
        },
        "id": "Vs04SIyy1T8f",
        "outputId": "8185b490-980a-4218-edde-238c0c0c6d72"
      },
      "source": [
        "import xgboost as xgb\n",
        "from xgboost import XGBClassifier\n",
        "\n",
        "# A parameter grid for XGBoost\n",
        "params = {\n",
        "        'min_child_weight': [1, 5, 10],\n",
        "        'gamma': [0.5, 1, 2],\n",
        "        'subsample': [0.6, 0.8, 1.0],\n",
        "        'colsample_bytree': [0.8, 1.0],\n",
        "        'max_depth': [7, 9, 11, 14, 16],\n",
        "        'n_estimators': [100, 200, 350],\n",
        "        'learning_rate': [0.05,0.15, 0.2, 0.25]\n",
        "        }\n",
        "    \n",
        "xgb_estimator = XGBClassifier()\n",
        "\n",
        "CV_xgb = GridSearchCV(estimator=xgb_estimator, param_grid=param_grid, cv= kfolds.split(x_train_original,y_train_original), verbose = 3, n_jobs = -1, scoring = 'f1_macro')\n",
        "xgb_model = CV_xgb.fit(X=x_train_original, y=y_train_original)\n",
        "\n",
        "print(xgb_model.best_params_, xgb_model.best_score_)"
      ],
      "execution_count": null,
      "outputs": [
        {
          "output_type": "stream",
          "text": [
            "Fitting 6 folds for each of 72 candidates, totalling 432 fits\n"
          ],
          "name": "stdout"
        },
        {
          "output_type": "stream",
          "text": [
            "[Parallel(n_jobs=-1)]: Using backend LokyBackend with 2 concurrent workers.\n",
            "[Parallel(n_jobs=-1)]: Done  28 tasks      | elapsed:  1.1min\n",
            "[Parallel(n_jobs=-1)]: Done 124 tasks      | elapsed:  7.1min\n",
            "[Parallel(n_jobs=-1)]: Done 284 tasks      | elapsed: 17.0min\n",
            "[Parallel(n_jobs=-1)]: Done 432 out of 432 | elapsed: 26.0min finished\n"
          ],
          "name": "stderr"
        },
        {
          "output_type": "stream",
          "text": [
            "{'learning_rate': 0.2, 'max_depth': 14, 'num_iterations': 200} 0.8889753905364515\n"
          ],
          "name": "stdout"
        }
      ]
    },
    {
      "cell_type": "code",
      "metadata": {
        "colab": {
          "base_uri": "https://localhost:8080/"
        },
        "id": "hPT6ekaG1V5O",
        "outputId": "cb621705-1318-4a6c-c942-399bafa0a0ce"
      },
      "source": [
        "print(CV_xgb.best_params_)\n",
        "print('Score: ' + str(CV_xgb.best_score_))\n",
        "\n",
        "# Calculo f1-score\n",
        "from sklearn.metrics import f1_score\n",
        "\n",
        "y_pred = CV_xgb.best_estimator_.predict(x_test)\n",
        "y_real = y_test\n",
        "\n",
        "print('f1-score es ' + str(f1_score(y_real, y_pred, average='macro')))"
      ],
      "execution_count": null,
      "outputs": [
        {
          "output_type": "stream",
          "text": [
            "{'learning_rate': 0.2, 'max_depth': 14, 'num_iterations': 200}\n",
            "Score: 0.8889753905364515\n",
            "f1-score es 0.8625999847844433\n"
          ],
          "name": "stdout"
        }
      ]
    },
    {
      "cell_type": "markdown",
      "metadata": {
        "id": "_Vw8MA6C2TXT"
      },
      "source": [
        "# 5. Ensemble y solución final"
      ]
    },
    {
      "cell_type": "code",
      "metadata": {
        "colab": {
          "base_uri": "https://localhost:8080/"
        },
        "id": "lYepnQ4c2TsC",
        "outputId": "57b3bf9b-7832-4611-d2b8-6334a34ee6fc"
      },
      "source": [
        "# ensemble\n",
        "y_pred_rfc = CV_rfc.best_estimator_.predict(x_test)\n",
        "y_pred_lgm = CV_lgm.best_estimator_.predict(x_test)\n",
        "y_pred_xgb = CV_xgb.best_estimator_.predict(x_test)\n",
        "\n",
        "#  a la hora de asignar los pesos, pondero en función del score\n",
        "y_pred_final = y_pred_rfc * 0 +  y_pred_lgm * 0.95 + y_pred_xgb * 0.05\n",
        "y_pred_final = y_pred_final.astype(int)\n",
        "\n",
        "print('el f1-score del ensemble es ' + str(f1_score(y_real, y_pred_final, average='macro')))"
      ],
      "execution_count": null,
      "outputs": [
        {
          "output_type": "stream",
          "text": [
            "el f1-score del ensemble es 0.8705717708785194\n"
          ],
          "name": "stdout"
        }
      ]
    },
    {
      "cell_type": "markdown",
      "metadata": {
        "id": "E2oLhrPozNr7"
      },
      "source": [
        "Como el ensemble no mejora el score, nos quedamos con el score del modelo lightgbm de **0.887**"
      ]
    }
  ]
}